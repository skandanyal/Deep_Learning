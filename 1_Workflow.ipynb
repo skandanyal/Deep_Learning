{
  "nbformat": 4,
  "nbformat_minor": 0,
  "metadata": {
    "colab": {
      "provenance": [],
      "authorship_tag": "ABX9TyOlTGQCRd5ewZDvEsNXOmFw",
      "include_colab_link": true
    },
    "kernelspec": {
      "name": "python3",
      "display_name": "Python 3"
    },
    "language_info": {
      "name": "python"
    }
  },
  "cells": [
    {
      "cell_type": "markdown",
      "metadata": {
        "id": "view-in-github",
        "colab_type": "text"
      },
      "source": [
        "<a href=\"https://colab.research.google.com/github/skandanyal/Deep_Learning/blob/main/1_Workflow.ipynb\" target=\"_parent\"><img src=\"https://colab.research.google.com/assets/colab-badge.svg\" alt=\"Open In Colab\"/></a>"
      ]
    },
    {
      "cell_type": "markdown",
      "source": [
        "# PyTorch workflow\n",
        "\n",
        "Exploring an end-to-end workflow."
      ],
      "metadata": {
        "id": "Qhy1Pf-NX24a"
      }
    },
    {
      "cell_type": "code",
      "execution_count": null,
      "metadata": {
        "colab": {
          "base_uri": "https://localhost:8080/"
        },
        "id": "Nx6XYmxuXz2v",
        "outputId": "cf4c1855-48ed-48d6-87a6-0b6015bab304"
      },
      "outputs": [
        {
          "output_type": "execute_result",
          "data": {
            "text/plain": [
              "{1: 'data (prepare and load)',\n",
              " 2: 'build model',\n",
              " 3: 'fitting the model to data (training)',\n",
              " 4: 'making predictions and evaluating a model (inference)',\n",
              " 5: 'saving and loading a model',\n",
              " 6: 'putting it all together (training pipeline)'}"
            ]
          },
          "metadata": {},
          "execution_count": 19
        }
      ],
      "source": [
        "what_we_are_covering = {\n",
        "    1: \"data (prepare and load)\",\n",
        "    2: \"build model\",\n",
        "    3: \"fitting the model to data (training)\",\n",
        "    4: \"making predictions and evaluating a model (inference)\",\n",
        "    5: \"saving and loading a model\",\n",
        "    6: \"putting it all together (training pipeline)\",\n",
        "}\n",
        "\n",
        "what_we_are_covering"
      ]
    },
    {
      "cell_type": "code",
      "source": [
        "import torch\n",
        "from torch import nn\n",
        "import matplotlib.pyplot as plt\n",
        "\n",
        "print(f\"PyTorch version: {torch.__version__}\")"
      ],
      "metadata": {
        "colab": {
          "base_uri": "https://localhost:8080/"
        },
        "id": "j7oZDsDJYplr",
        "outputId": "fb8a526f-03ff-42e6-f02c-0429515bd2a5"
      },
      "execution_count": null,
      "outputs": [
        {
          "output_type": "stream",
          "name": "stdout",
          "text": [
            "PyTorch version: 2.8.0+cu126\n"
          ]
        }
      ]
    },
    {
      "cell_type": "markdown",
      "source": [
        "## Data (preparing and loading)\n",
        "\n",
        "**Data can be almost anything**\n",
        "\n",
        "* Excel spreadsheets\n",
        "* Images of any kind\n",
        "* Videos\n",
        "* Audio\n",
        "* DNA\n",
        "* Text       \n",
        "\n",
        "**Machine learning is a game of two parts:**\n",
        "1.    Get data into numerical representation.\n",
        "2.    Build a model to learn patterns in that numerical representation."
      ],
      "metadata": {
        "id": "pH9hCdvqZIR7"
      }
    },
    {
      "cell_type": "markdown",
      "source": [
        "**Building a linear regression model for demonstration:**    \n",
        "Use a linear regression formula to make a straight line with known **parameters.**"
      ],
      "metadata": {
        "id": "Op88KRkoZ54l"
      }
    },
    {
      "cell_type": "code",
      "source": [
        "# Create *knwon* parameters\n",
        "weight = 0.7\n",
        "bias = 0.3\n",
        "\n",
        "# Create\n",
        "start = 0\n",
        "end = 1\n",
        "step = 0.02\n",
        "X = torch.arange(start, end, step).unsqueeze(dim=1)\n",
        "y = weight * X + bias\n",
        "\n",
        "# Looking at a few numbers\n",
        "print(X[:10])\n",
        "print( y[:10])\n",
        "print(len(X), len(y))"
      ],
      "metadata": {
        "colab": {
          "base_uri": "https://localhost:8080/"
        },
        "id": "_ctzgLx7ZF7g",
        "outputId": "f516a7b7-d105-4944-b2fe-907497e1f120"
      },
      "execution_count": null,
      "outputs": [
        {
          "output_type": "stream",
          "name": "stdout",
          "text": [
            "tensor([[0.0000],\n",
            "        [0.0200],\n",
            "        [0.0400],\n",
            "        [0.0600],\n",
            "        [0.0800],\n",
            "        [0.1000],\n",
            "        [0.1200],\n",
            "        [0.1400],\n",
            "        [0.1600],\n",
            "        [0.1800]])\n",
            "tensor([[0.3000],\n",
            "        [0.3140],\n",
            "        [0.3280],\n",
            "        [0.3420],\n",
            "        [0.3560],\n",
            "        [0.3700],\n",
            "        [0.3840],\n",
            "        [0.3980],\n",
            "        [0.4120],\n",
            "        [0.4260]])\n",
            "50 50\n"
          ]
        }
      ]
    },
    {
      "cell_type": "markdown",
      "source": [
        "**Splitting data into training and test datasets**"
      ],
      "metadata": {
        "id": "KYZEuysdbWn3"
      }
    },
    {
      "cell_type": "code",
      "source": [
        "# Create train-test-split\n",
        "\n",
        "train_split = int(0.75 * len(X))\n",
        "X_train, y_train = X[:train_split], y[:train_split]\n",
        "X_test, y_test = X[train_split:], y[train_split:]\n",
        "\n",
        "print(f\"Training data: {len(X_train)} samples\")\n",
        "print(f\"Test data: {len(X_test)} samples\")"
      ],
      "metadata": {
        "colab": {
          "base_uri": "https://localhost:8080/"
        },
        "id": "fPWdTmErbbke",
        "outputId": "c2835348-ad5c-4719-f5ab-702807f54298"
      },
      "execution_count": null,
      "outputs": [
        {
          "output_type": "stream",
          "name": "stdout",
          "text": [
            "Training data: 37 samples\n",
            "Test data: 13 samples\n"
          ]
        }
      ]
    },
    {
      "cell_type": "markdown",
      "source": [
        "**How can we better visualize our data:**\n",
        "\n",
        "Visualize! Visualize! Visualize!"
      ],
      "metadata": {
        "id": "g5ku7J_rcy4S"
      }
    },
    {
      "cell_type": "code",
      "source": [
        "def plot_predictions(train_data=X_train,\n",
        "                     train_labels = y_train,\n",
        "                     test_data = X_test,\n",
        "                     test_labels = y_test,\n",
        "                     predictions = None):\n",
        "\n",
        "    \"\"\"\n",
        "    Plots training data, test data and compares predictions.\n",
        "    \"\"\"\n",
        "    plt.figure(figsize=(10, 7))\n",
        "\n",
        "    # Plot training data in blue\n",
        "    plt.scatter(train_data, train_labels, c='b', s=4, label=\"Training data\")\n",
        "\n",
        "    # Plot test data in green\n",
        "    plt.scatter(test_data, test_labels, c='g', s=4, label=\"Testing data\")\n",
        "\n",
        "    if predictions is not None:\n",
        "        # Plot the predictions in red (predictions were made on the test data)\n",
        "        # we shall compare predictions against y_test\n",
        "        plt.scatter(test_data, predictions, c='r', s=4, label=\"Predictions\")\n",
        "\n",
        "    # legend\n",
        "    plt.legend(prop={\"size\": 14})"
      ],
      "metadata": {
        "id": "URcVQpgNcrtH"
      },
      "execution_count": null,
      "outputs": []
    },
    {
      "cell_type": "code",
      "source": [
        "plot_predictions()"
      ],
      "metadata": {
        "colab": {
          "base_uri": "https://localhost:8080/",
          "height": 599
        },
        "id": "Ud7l4IxbeoOn",
        "outputId": "5effb089-ff70-4125-cc56-3b9357b2ad85"
      },
      "execution_count": null,
      "outputs": [
        {
          "output_type": "display_data",
          "data": {
            "text/plain": [
              "<Figure size 1000x700 with 1 Axes>"
            ],
            "image/png": "[encoded data removed]"
          },
          "metadata": {}
        }
      ]
    },
    {
      "cell_type": "markdown",
      "source": [
        "## Build model\n",
        "\n",
        "**What our model does:**\n",
        "* Start with random values (weights & bias)\n",
        "* Look at training data and adjust the random values to better represent (or get closer to) the ideal values (the weight & bias values we used to create the data)\n",
        "\n",
        "**How does it do so?**\n",
        "1.    Gradient descent\n",
        "2.    Backpropagation"
      ],
      "metadata": {
        "id": "SkwvbX-_fXmc"
      }
    },
    {
      "cell_type": "code",
      "source": [
        "# Create a linear regression python class\n",
        "\n",
        "import torch\n",
        "from torch import nn\n",
        "\n",
        "class LinearRegressionModel(nn.Module):\n",
        "    def __init__(self):\n",
        "        super().__init__()\n",
        "\n",
        "        # initialize model\n",
        "        self.weights = nn.Parameter(torch.randn(1,  # start with a random number and work through it\n",
        "                                                requires_grad=True,\n",
        "                                                dtype=torch.float))\n",
        "\n",
        "        self.bias = nn.Parameter(torch.randn(1,     # start with a random number and work through it\n",
        "                                             requires_grad=True,\n",
        "                                             dtype=torch.float))\n",
        "\n",
        "    # forward() method to define the computation in the model\n",
        "    def forward(self, x:torch.Tensor) -> torch.Tensor:\n",
        "        return self.weights * x + self.bias"
      ],
      "metadata": {
        "id": "-lSgs266e9aV"
      },
      "execution_count": null,
      "outputs": []
    },
    {
      "cell_type": "markdown",
      "source": [
        "### PyTorch model building essentials\n",
        "\n",
        "* `torch.nn` - contains all the blocks for NNs (computational graphs).\n",
        "* `torch.nn.Parameter` - what params should out model try and learn from torch.nn,\n",
        "* `torch.nn.Module` - base class for all nn modules. If you subclass it, you should override `forward()`.\n",
        "* `torch.optim` - here is where the optimizers in pyTorch live, will help us with gradient descent.\n",
        "* def `forward()` - all nn.Module() subclasses require you to overwrite forward()"
      ],
      "metadata": {
        "id": "6xDJrne8hqNs"
      }
    },
    {
      "cell_type": "markdown",
      "source": [
        "### Checking the contents of our PyTorch model:\n",
        "\n",
        "We can checking the model params using `.parameters()`."
      ],
      "metadata": {
        "id": "dAVUq_CSjgxo"
      }
    },
    {
      "cell_type": "code",
      "source": [
        "torch.manual_seed(5)                                            # create a random seed\n",
        "\n",
        "model_0 = LinearRegressionModel()                               # creating an instance of our model\n",
        "print(list(model_0.parameters()))                               # checking the parameters\n",
        "print(list(model_0.state_dict()))                               # list all named params"
      ],
      "metadata": {
        "colab": {
          "base_uri": "https://localhost:8080/"
        },
        "id": "b70dTOBDjfiU",
        "outputId": "ae7ddfa1-1686-4af6-8d22-dd570ba87e93"
      },
      "execution_count": null,
      "outputs": [
        {
          "output_type": "stream",
          "name": "stdout",
          "text": [
            "[Parameter containing:\n",
            "tensor([-0.4868], requires_grad=True), Parameter containing:\n",
            "tensor([-0.6038], requires_grad=True)]\n",
            "['weights', 'bias']\n"
          ]
        }
      ]
    },
    {
      "cell_type": "markdown",
      "source": [
        "### Making prediction using `torch.inference_mode()`\n",
        "\n",
        "To check our model's predictive power, let us see how well it predicts `y_test` based upon `x_test`.\n",
        "\n",
        "When we pass the data through our model, it's going to run it through the `forward()`method."
      ],
      "metadata": {
        "id": "5tNS18h8l3Xr"
      }
    },
    {
      "cell_type": "code",
      "source": [
        "# Make predictions with model\n",
        "\n",
        "with torch.inference_mode():\n",
        "    y_preds = model_0(X_test)\n",
        "\n",
        "print(y_preds)"
      ],
      "metadata": {
        "colab": {
          "base_uri": "https://localhost:8080/"
        },
        "id": "NQO_7ytWl2fp",
        "outputId": "9d70cefd-5e81-4851-c412-3a45b007fd53"
      },
      "execution_count": null,
      "outputs": [
        {
          "output_type": "stream",
          "name": "stdout",
          "text": [
            "tensor([[-0.9640],\n",
            "        [-0.9738],\n",
            "        [-0.9835],\n",
            "        [-0.9932],\n",
            "        [-1.0030],\n",
            "        [-1.0127],\n",
            "        [-1.0225],\n",
            "        [-1.0322],\n",
            "        [-1.0419],\n",
            "        [-1.0517],\n",
            "        [-1.0614],\n",
            "        [-1.0711],\n",
            "        [-1.0809]])\n"
          ]
        }
      ]
    },
    {
      "cell_type": "code",
      "source": [
        "plot_predictions(predictions=y_preds)                                   # damn....."
      ],
      "metadata": {
        "colab": {
          "base_uri": "https://localhost:8080/",
          "height": 598
        },
        "id": "biL5LYJOnB_b",
        "outputId": "6eca1be3-77ab-4e96-de9d-37b02334a72a"
      },
      "execution_count": null,
      "outputs": [
        {
          "output_type": "display_data",
          "data": {
            "text/plain": [
              "<Figure size 1000x700 with 1 Axes>"
            ],
            "image/png": "[encoded data removed]"
          },
          "metadata": {}
        }
      ]
    },
    {
      "cell_type": "markdown",
      "source": [
        "`torch.inference_mode()` and `torch.no_grad()` do a few things pretty similarly, and disctinctively. To know more, visit - https://x.com/PyTorch/status/1437838231505096708?lang=en"
      ],
      "metadata": {
        "id": "7T5l1DCin-3E"
      }
    },
    {
      "cell_type": "markdown",
      "source": [
        "### Training a model\n",
        "\n",
        "Taking the model from having a poor representation of data to a better representation of data.    \n",
        "\n",
        "One way to know how poor a model is performing, is by analyzing its loss function (also called as cost function or criterion.)     \n",
        "\n",
        "**Things we need to train a model:**\n",
        "1.    **Loss function:** A function which basically says how wrong the model is.\n",
        "2.    **Optimizer():** Takes into account the loss of a model and adjusts the model's parameters (weights and biases).    \n",
        "\n",
        "Specifically for PyTorch, we need:\n",
        "*    Training loop\n",
        "*    Testing loop"
      ],
      "metadata": {
        "id": "dAOy_TNypfOp"
      }
    },
    {
      "cell_type": "code",
      "source": [
        "model_0.state_dict()"
      ],
      "metadata": {
        "colab": {
          "base_uri": "https://localhost:8080/"
        },
        "id": "Y9ABR2-sJs0b",
        "outputId": "9dafec3b-b4ac-4feb-e48e-bb09a6d446cb"
      },
      "execution_count": null,
      "outputs": [
        {
          "output_type": "execute_result",
          "data": {
            "text/plain": [
              "OrderedDict([('weights', tensor([-0.4868])), ('bias', tensor([-0.6038]))])"
            ]
          },
          "metadata": {},
          "execution_count": 29
        }
      ]
    },
    {
      "cell_type": "code",
      "source": [
        "# set-up a loss function and an optimizer (hyper-parameter tuning)\n",
        "\n",
        "loss_fn = nn.L1Loss()\n",
        "optimizer = torch.optim.SGD(params=model_0.parameters(), # parameters in the model\n",
        "                            lr=0.01                      # learning rate for our model\n",
        "                            )"
      ],
      "metadata": {
        "id": "yvgwEsI1pRkB"
      },
      "execution_count": null,
      "outputs": []
    },
    {
      "cell_type": "markdown",
      "source": [
        "**Which loss function and optimizer to use?**    \n",
        "A: Problem specific -    \n",
        "*    For regression problems: use loss function `nn.L1Loss()` and optimiser `torch.optim.SGD()`.    \n",
        "*    For classification problems: use loss function `nn.BCELoss()`"
      ],
      "metadata": {
        "id": "1wLSJhuGKyKD"
      }
    },
    {
      "cell_type": "code",
      "source": [
        "# AIM - reduce the MAE as much as possible"
      ],
      "metadata": {
        "id": "o5iHgaztn-jr"
      },
      "execution_count": null,
      "outputs": []
    },
    {
      "cell_type": "markdown",
      "source": [
        "### Building a training loop, testing loop in PyTorch\n",
        "\n",
        "Things in training loop:\n",
        "\n",
        "0.   Looping through the data\n",
        "1.   Forward pass/propagation- involves data moving through our model's `forward()` functions\n",
        "2.   Calculate the loss (compare forward pass predictions to ground truth labels)\n",
        "3.   Optimizer zero grad\n",
        "4.   Loss backward - move backwards through the network to calculate the gradients of each of the parameters of our model with respect to the loss\n",
        "5.   Optimizer step **(gradient descent)**- use the optimizer to adjust our model's params to adjust the loss.\n",
        "\n"
      ],
      "metadata": {
        "id": "84Ms_xcrL5HQ"
      }
    },
    {
      "cell_type": "code",
      "source": [
        "list(model_0.parameters())"
      ],
      "metadata": {
        "colab": {
          "base_uri": "https://localhost:8080/"
        },
        "id": "4vHs0PPzSXY-",
        "outputId": "a516442c-3006-4781-92d0-7f24fa499a74"
      },
      "execution_count": null,
      "outputs": [
        {
          "output_type": "execute_result",
          "data": {
            "text/plain": [
              "[Parameter containing:\n",
              " tensor([-0.4868], requires_grad=True),\n",
              " Parameter containing:\n",
              " tensor([-0.6038], requires_grad=True)]"
            ]
          },
          "metadata": {},
          "execution_count": 32
        }
      ]
    },
    {
      "cell_type": "code",
      "source": [
        "with torch.inference_mode():            # or torch.no_grad()\n",
        "    list(model_0.eval().parameters())"
      ],
      "metadata": {
        "id": "myXnNYOdSunz"
      },
      "execution_count": null,
      "outputs": []
    },
    {
      "cell_type": "code",
      "source": [
        "torch.manual_seed(5)\n",
        "\n",
        "# An apoch is one loop through the data\n",
        "epochs = 500\n",
        "\n",
        "# 0. loop through the data\n",
        "for epoch in range(epochs):\n",
        "\n",
        "    # Set the model to training mode\n",
        "    model_0.train()                         # now all the parameters which require gradients will be required to account the gradients\n",
        "\n",
        "    # 1. Forward pass\n",
        "    y_pred = model_0(X_train)\n",
        "\n",
        "    # 2. Calculate the loss\n",
        "    loss = loss_fn(y_pred, y_train)         # input first, target next\n",
        "    if epoch % 100 == 0:\n",
        "        print(f\"Loss at epoch {epoch}: {loss}\")\n",
        "\n",
        "    # 3. Optimizer zero grad\n",
        "    optimizer.zero_grad()\n",
        "\n",
        "    # 4. Perform back propagation\n",
        "    loss.backward()\n",
        "\n",
        "    # 5. Set the optimizer (perform gradient descent)\n",
        "    optimizer.step()\n",
        "\n",
        "    model_0.eval()                          # turns off gradient tracking\n",
        "\n"
      ],
      "metadata": {
        "colab": {
          "base_uri": "https://localhost:8080/"
        },
        "id": "-qIftgSjLbry",
        "outputId": "d2de44cf-51f1-453e-89f2-66285dce3f85"
      },
      "execution_count": null,
      "outputs": [
        {
          "output_type": "stream",
          "name": "stdout",
          "text": [
            "Loss at epoch 0: 0.029093526303768158\n",
            "Loss at epoch 100: 0.006592177785933018\n",
            "Loss at epoch 200: 0.006592177785933018\n",
            "Loss at epoch 300: 0.006592177785933018\n",
            "Loss at epoch 400: 0.006592177785933018\n"
          ]
        }
      ]
    },
    {
      "cell_type": "markdown",
      "source": [
        "**Notice the difference here...**"
      ],
      "metadata": {
        "id": "_Bb8xtMgnrIZ"
      }
    },
    {
      "cell_type": "code",
      "source": [
        "print(f\"After running the training loop: {model_0.state_dict()}\")"
      ],
      "metadata": {
        "colab": {
          "base_uri": "https://localhost:8080/"
        },
        "id": "F7uBueg-ni0C",
        "outputId": "533218f7-91f9-4858-9279-cc9ad3f8b7f4"
      },
      "execution_count": null,
      "outputs": [
        {
          "output_type": "stream",
          "name": "stdout",
          "text": [
            "After running the training loop: OrderedDict({'weights': tensor([0.6966]), 'bias': tensor([0.3078])})\n"
          ]
        }
      ]
    },
    {
      "cell_type": "code",
      "source": [
        "print(f\"Before running the training loop: {model_0.state_dict()}\")"
      ],
      "metadata": {
        "colab": {
          "base_uri": "https://localhost:8080/"
        },
        "id": "ThLMUd5qLNCy",
        "outputId": "d0f62c74-0957-420c-a832-b11dd1aaf892"
      },
      "execution_count": null,
      "outputs": [
        {
          "output_type": "stream",
          "name": "stdout",
          "text": [
            "Before running the training loop: OrderedDict({'weights': tensor([-0.4868]), 'bias': tensor([-0.6038])})\n"
          ]
        }
      ]
    },
    {
      "cell_type": "code",
      "source": [
        "print(f\"Target to be reached: {weight} and {bias}\")"
      ],
      "metadata": {
        "colab": {
          "base_uri": "https://localhost:8080/"
        },
        "id": "X9Sr7hLBoGTG",
        "outputId": "db9bd533-4a0d-479d-971a-d1ee3cf8552f"
      },
      "execution_count": null,
      "outputs": [
        {
          "output_type": "stream",
          "name": "stdout",
          "text": [
            "Target to be reached: 0.7 and 0.3\n"
          ]
        }
      ]
    },
    {
      "cell_type": "code",
      "source": [
        "with torch.inference_mode():\n",
        "    y_preds = model_0(X_test)"
      ],
      "metadata": {
        "id": "py4oUbFcoxS0"
      },
      "execution_count": null,
      "outputs": []
    },
    {
      "cell_type": "code",
      "source": [
        "plot_predictions(predictions=y_preds)"
      ],
      "metadata": {
        "colab": {
          "base_uri": "https://localhost:8080/",
          "height": 599
        },
        "id": "SFrQjcMBoeot",
        "outputId": "8686ac3c-53dd-4f86-c629-412914756a2a"
      },
      "execution_count": null,
      "outputs": [
        {
          "output_type": "display_data",
          "data": {
            "text/plain": [
              "<Figure size 1000x700 with 1 Axes>"
            ],
            "image/png": "[encoded data removed]"
          },
          "metadata": {}
        }
      ]
    }
  ]
}