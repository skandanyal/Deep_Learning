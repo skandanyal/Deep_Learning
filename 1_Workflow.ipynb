{
  "nbformat": 4,
  "nbformat_minor": 0,
  "metadata": {
    "colab": {
      "provenance": [],
      "authorship_tag": "ABX9TyPRIU0Ihsr9Z3V/xmGdFIzE",
      "include_colab_link": true
    },
    "kernelspec": {
      "name": "python3",
      "display_name": "Python 3"
    },
    "language_info": {
      "name": "python"
    }
  },
  "cells": [
    {
      "cell_type": "markdown",
      "metadata": {
        "id": "view-in-github",
        "colab_type": "text"
      },
      "source": [
        "<a href=\"https://colab.research.google.com/github/skandanyal/Deep_Learning/blob/main/1_Workflow.ipynb\" target=\"_parent\"><img src=\"https://colab.research.google.com/assets/colab-badge.svg\" alt=\"Open In Colab\"/></a>"
      ]
    },
    {
      "cell_type": "markdown",
      "source": [
        "# PyTorch workflow\n",
        "\n",
        "Exploring an end-to-end workflow."
      ],
      "metadata": {
        "id": "Qhy1Pf-NX24a"
      }
    },
    {
      "cell_type": "code",
      "execution_count": 1,
      "metadata": {
        "colab": {
          "base_uri": "https://localhost:8080/"
        },
        "id": "Nx6XYmxuXz2v",
        "outputId": "3d63abfe-3c38-4d7e-a153-d1d4b4283e91"
      },
      "outputs": [
        {
          "output_type": "execute_result",
          "data": {
            "text/plain": [
              "{1: 'data (prepare and load)',\n",
              " 2: 'build model',\n",
              " 3: 'fitting the model to data (training)',\n",
              " 4: 'making predictions and evaluating a model (inference)',\n",
              " 5: 'saving and loading a model',\n",
              " 6: 'putting it all together (training pipeline)'}"
            ]
          },
          "metadata": {},
          "execution_count": 1
        }
      ],
      "source": [
        "what_we_are_covering = {\n",
        "    1: \"data (prepare and load)\",\n",
        "    2: \"build model\",\n",
        "    3: \"fitting the model to data (training)\",\n",
        "    4: \"making predictions and evaluating a model (inference)\",\n",
        "    5: \"saving and loading a model\",\n",
        "    6: \"putting it all together (training pipeline)\",\n",
        "}\n",
        "\n",
        "what_we_are_covering"
      ]
    },
    {
      "cell_type": "code",
      "source": [
        "import torch\n",
        "from torch import nn\n",
        "import matplotlib.pyplot as plt\n",
        "\n",
        "print(f\"PyTorch version: {torch.__version__}\")"
      ],
      "metadata": {
        "colab": {
          "base_uri": "https://localhost:8080/"
        },
        "id": "j7oZDsDJYplr",
        "outputId": "9048a061-7567-42e6-cfd7-7ffff62c3fcf"
      },
      "execution_count": 2,
      "outputs": [
        {
          "output_type": "stream",
          "name": "stdout",
          "text": [
            "PyTorch version: 2.8.0+cu126\n"
          ]
        }
      ]
    },
    {
      "cell_type": "markdown",
      "source": [
        "## Data (preparing and loading)\n",
        "\n",
        "**Data can be almost anything**\n",
        "\n",
        "* Excel spreadsheets\n",
        "* Images of any kind\n",
        "* Videos\n",
        "* Audio\n",
        "* DNA\n",
        "* Text       \n",
        "\n",
        "**Machine learning is a game of two parts:**\n",
        "1.    Get data into numerical representation.\n",
        "2.    Build a model to learn patterns in that numerical representation."
      ],
      "metadata": {
        "id": "pH9hCdvqZIR7"
      }
    },
    {
      "cell_type": "markdown",
      "source": [
        "**Building a linear regression model for demonstration:**    \n",
        "Use a linear regression formula to make a straight line with known **parameters.**"
      ],
      "metadata": {
        "id": "Op88KRkoZ54l"
      }
    },
    {
      "cell_type": "code",
      "source": [
        "# Create *knwon* parameters\n",
        "weight = 0.7\n",
        "bias = 0.3\n",
        "\n",
        "# Create\n",
        "start = 0\n",
        "end = 1\n",
        "step = 0.02\n",
        "X = torch.arange(start, end, step).unsqueeze(dim=1)\n",
        "y = weight * X + bias\n",
        "\n",
        "# Looking at a few numbers\n",
        "print(X[:10])\n",
        "print( y[:10])\n",
        "print(len(X), len(y))"
      ],
      "metadata": {
        "colab": {
          "base_uri": "https://localhost:8080/"
        },
        "id": "_ctzgLx7ZF7g",
        "outputId": "6e7bab49-051a-4fa6-fea0-dd27ab557aa8"
      },
      "execution_count": 3,
      "outputs": [
        {
          "output_type": "stream",
          "name": "stdout",
          "text": [
            "tensor([[0.0000],\n",
            "        [0.0200],\n",
            "        [0.0400],\n",
            "        [0.0600],\n",
            "        [0.0800],\n",
            "        [0.1000],\n",
            "        [0.1200],\n",
            "        [0.1400],\n",
            "        [0.1600],\n",
            "        [0.1800]])\n",
            "tensor([[0.3000],\n",
            "        [0.3140],\n",
            "        [0.3280],\n",
            "        [0.3420],\n",
            "        [0.3560],\n",
            "        [0.3700],\n",
            "        [0.3840],\n",
            "        [0.3980],\n",
            "        [0.4120],\n",
            "        [0.4260]])\n",
            "50 50\n"
          ]
        }
      ]
    },
    {
      "cell_type": "markdown",
      "source": [
        "**Splitting data into training and test datasets**"
      ],
      "metadata": {
        "id": "KYZEuysdbWn3"
      }
    },
    {
      "cell_type": "code",
      "source": [
        "# Create train-test-split\n",
        "\n",
        "train_split = int(0.75 * len(X))\n",
        "X_train, y_train = X[:train_split], y[:train_split]\n",
        "X_test, y_test = X[train_split:], y[train_split:]\n",
        "\n",
        "print(f\"Training data: {len(X_train)} samples\")\n",
        "print(f\"Test data: {len(X_test)} samples\")"
      ],
      "metadata": {
        "colab": {
          "base_uri": "https://localhost:8080/"
        },
        "id": "fPWdTmErbbke",
        "outputId": "e32290b3-deb6-4701-f03f-64e08540a648"
      },
      "execution_count": 4,
      "outputs": [
        {
          "output_type": "stream",
          "name": "stdout",
          "text": [
            "Training data: 37 samples\n",
            "Test data: 13 samples\n"
          ]
        }
      ]
    },
    {
      "cell_type": "markdown",
      "source": [
        "**How can we better visualize our data:**\n",
        "\n",
        "Visualize! Visualize! Visualize!"
      ],
      "metadata": {
        "id": "g5ku7J_rcy4S"
      }
    },
    {
      "cell_type": "code",
      "source": [
        "def plot_predictions(train_data=X_train,\n",
        "                     train_labels = y_train,\n",
        "                     test_data = X_test,\n",
        "                     test_labels = y_test,\n",
        "                     predictions = None):\n",
        "\n",
        "    \"\"\"\n",
        "    Plots training data, test data and compares predictions.\n",
        "    \"\"\"\n",
        "    plt.figure(figsize=(10, 7))\n",
        "\n",
        "    # Plot training data in blue\n",
        "    plt.scatter(train_data, train_labels, c='b', s=4, label=\"Training data\")\n",
        "\n",
        "    # Plot test data in green\n",
        "    plt.scatter(test_data, test_labels, c='g', s=4, label=\"Testing data\")\n",
        "\n",
        "    if predictions is not None:\n",
        "        # Plot the predictions in red (predictions were made on the test data)\n",
        "        # we shall compare predictions against y_test\n",
        "        plt.scatter(test_data, predictions, c='r', s=4, label=\"Predictions\")\n",
        "\n",
        "    # legend\n",
        "    plt.legend(prop={\"size\": 14})"
      ],
      "metadata": {
        "id": "URcVQpgNcrtH"
      },
      "execution_count": 5,
      "outputs": []
    },
    {
      "cell_type": "code",
      "source": [
        "plot_predictions()"
      ],
      "metadata": {
        "colab": {
          "base_uri": "https://localhost:8080/",
          "height": 581
        },
        "id": "Ud7l4IxbeoOn",
        "outputId": "88398025-1bdd-4a6a-d045-c01750ffbecd"
      },
      "execution_count": 6,
      "outputs": [
        {
          "output_type": "display_data",
          "data": {
            "text/plain": [
              "<Figure size 1000x700 with 1 Axes>"
            ],
            "image/png": "[encoded data removed]"
          },
          "metadata": {}
        }
      ]
    },
    {
      "cell_type": "markdown",
      "source": [
        "## Build model\n",
        "\n",
        "**What our model does:**\n",
        "* Start with random values (weights & bias)\n",
        "* Look at training data and adjust the random values to better represent (or get closer to) the ideal values (the weight & bias values we used to create the data)\n",
        "\n",
        "**How does it do so?**\n",
        "1.    Gradient descent\n",
        "2.    Backpropagation"
      ],
      "metadata": {
        "id": "SkwvbX-_fXmc"
      }
    },
    {
      "cell_type": "code",
      "source": [
        "# Create a linear regression python class\n",
        "\n",
        "import torch\n",
        "from torch import nn\n",
        "\n",
        "class LinearRegressionModel(nn.Module):\n",
        "    def __init__(self):\n",
        "        super().__init__()\n",
        "\n",
        "        # initialize model\n",
        "        self.weights = nn.Parameter(torch.randn(1,  # start with a random number and work through it\n",
        "                                                requires_grad=True,\n",
        "                                                dtype=torch.float))\n",
        "\n",
        "        self.bias = nn.Parameter(torch.randn(1,     # start with a random number and work through it\n",
        "                                             requires_grad=True,\n",
        "                                             dtype=torch.float))\n",
        "\n",
        "    # forward() method to define the computation in the model\n",
        "    def forward(self, x:torch.Tensor) -> torch.Tensor:\n",
        "        return self.weights * x + self.bias"
      ],
      "metadata": {
        "id": "-lSgs266e9aV"
      },
      "execution_count": 7,
      "outputs": []
    },
    {
      "cell_type": "markdown",
      "source": [
        "### PyTorch model building essentials\n",
        "\n",
        "* `torch.nn` - contains all the blocks for NNs (computational graphs).\n",
        "* `torch.nn.Parameter` - what params should out model try and learn from torch.nn,\n",
        "* `torch.nn.Module` - base class for all nn modules. If you subclass it, you should override `forward()`.\n",
        "* `torch.optim` - here is where the optimizers in pyTorch live, will help us with gradient descent.\n",
        "* def `forward()` - all nn.Module() subclasses require you to overwrite forward()"
      ],
      "metadata": {
        "id": "6xDJrne8hqNs"
      }
    },
    {
      "cell_type": "markdown",
      "source": [
        "### Checking the contents of our PyTorch model:\n",
        "\n",
        "We can checking the model params using `.parameters()`."
      ],
      "metadata": {
        "id": "dAVUq_CSjgxo"
      }
    },
    {
      "cell_type": "code",
      "source": [
        "torch.manual_seed(5)                                            # create a random seed\n",
        "\n",
        "model_0 = LinearRegressionModel()                               # creating an instance of our model\n",
        "print(list(model_0.parameters()))                               # checking the parameters\n",
        "print(list(model_0.state_dict()))                               # list all named params"
      ],
      "metadata": {
        "colab": {
          "base_uri": "https://localhost:8080/"
        },
        "id": "b70dTOBDjfiU",
        "outputId": "2a1c94e0-f7c3-466a-f4ad-f2c9a743fbb2"
      },
      "execution_count": 8,
      "outputs": [
        {
          "output_type": "stream",
          "name": "stdout",
          "text": [
            "[Parameter containing:\n",
            "tensor([-0.4868], requires_grad=True), Parameter containing:\n",
            "tensor([-0.6038], requires_grad=True)]\n",
            "['weights', 'bias']\n"
          ]
        }
      ]
    },
    {
      "cell_type": "markdown",
      "source": [
        "### Making prediction using `torch.inference_mode()`\n",
        "\n",
        "To check our model's predictive power, let us see how well it predicts `y_test` based upon `x_test`.\n",
        "\n",
        "When we pass the data through our model, it's going to run it through the `forward()`method."
      ],
      "metadata": {
        "id": "5tNS18h8l3Xr"
      }
    },
    {
      "cell_type": "code",
      "source": [
        "# Make predictions with model\n",
        "\n",
        "with torch.inference_mode():\n",
        "    y_preds = model_0(X_test)\n",
        "\n",
        "print(y_preds)"
      ],
      "metadata": {
        "colab": {
          "base_uri": "https://localhost:8080/"
        },
        "id": "NQO_7ytWl2fp",
        "outputId": "3631d136-4c49-41ee-d256-f074107246f7"
      },
      "execution_count": 9,
      "outputs": [
        {
          "output_type": "stream",
          "name": "stdout",
          "text": [
            "tensor([[-0.9640],\n",
            "        [-0.9738],\n",
            "        [-0.9835],\n",
            "        [-0.9932],\n",
            "        [-1.0030],\n",
            "        [-1.0127],\n",
            "        [-1.0225],\n",
            "        [-1.0322],\n",
            "        [-1.0419],\n",
            "        [-1.0517],\n",
            "        [-1.0614],\n",
            "        [-1.0711],\n",
            "        [-1.0809]])\n"
          ]
        }
      ]
    },
    {
      "cell_type": "code",
      "source": [
        "plot_predictions(predictions=y_preds)                                   # damn....."
      ],
      "metadata": {
        "colab": {
          "base_uri": "https://localhost:8080/",
          "height": 573
        },
        "id": "biL5LYJOnB_b",
        "outputId": "8e1659ec-d089-486d-8aa6-9141d609be68"
      },
      "execution_count": 10,
      "outputs": [
        {
          "output_type": "display_data",
          "data": {
            "text/plain": [
              "<Figure size 1000x700 with 1 Axes>"
            ],
            "image/png": "[encoded data removed]"
          },
          "metadata": {}
        }
      ]
    },
    {
      "cell_type": "markdown",
      "source": [
        "`torch.inference_mode()` and `torch.no_grad()` do a few things pretty similarly, and disctinctively. To know more, visit - https://x.com/PyTorch/status/1437838231505096708?lang=en"
      ],
      "metadata": {
        "id": "7T5l1DCin-3E"
      }
    },
    {
      "cell_type": "markdown",
      "source": [
        "### Training a model\n",
        "\n",
        "Taking the model from having a poor representation of data to a better representation of data.    \n",
        "\n",
        "One way to know how poor a model is performing, is by analyzing its loss function (also called as cost function or criterion.)     \n",
        "\n",
        "**Things we need to train a model:**\n",
        "1.    **Loss function:** A function which basically says how wrong the model is.\n",
        "2.    **Optimizer():** Takes into account the loss of a model and adjusts the model's parameters (weights and biases).    \n",
        "\n",
        "Specifically for PyTorch, we need:\n",
        "*    Training loop\n",
        "*    Testing loop"
      ],
      "metadata": {
        "id": "dAOy_TNypfOp"
      }
    },
    {
      "cell_type": "code",
      "source": [
        "model_0.state_dict()"
      ],
      "metadata": {
        "colab": {
          "base_uri": "https://localhost:8080/"
        },
        "id": "Y9ABR2-sJs0b",
        "outputId": "fc493e7d-440f-4bde-9537-ea29e76bfa77"
      },
      "execution_count": 11,
      "outputs": [
        {
          "output_type": "execute_result",
          "data": {
            "text/plain": [
              "OrderedDict([('weights', tensor([-0.4868])), ('bias', tensor([-0.6038]))])"
            ]
          },
          "metadata": {},
          "execution_count": 11
        }
      ]
    },
    {
      "cell_type": "code",
      "source": [
        "# set-up a loss function and an optimizer (hyper-parameter tuning)\n",
        "\n",
        "loss_fn = nn.L1Loss()\n",
        "optimizer = torch.optim.SGD(params=model_0.parameters(), # parameters in the model\n",
        "                            lr=0.01                      # learning rate for our model\n",
        "                            )"
      ],
      "metadata": {
        "id": "yvgwEsI1pRkB"
      },
      "execution_count": 12,
      "outputs": []
    },
    {
      "cell_type": "markdown",
      "source": [
        "**Which loss function and optimizer to use?**    \n",
        "A: Problem specific -    \n",
        "*    For regression problems: use loss function `nn.L1Loss()` and optimiser `torch.optim.SGD()`.    \n",
        "*    For classification problems: use loss function `nn.BCELoss()`"
      ],
      "metadata": {
        "id": "1wLSJhuGKyKD"
      }
    },
    {
      "cell_type": "code",
      "source": [
        "# AIM - reduce the MAE as much as possible"
      ],
      "metadata": {
        "id": "o5iHgaztn-jr"
      },
      "execution_count": 13,
      "outputs": []
    },
    {
      "cell_type": "markdown",
      "source": [
        "### Building a training loop, testing loop in PyTorch\n",
        "\n",
        "Things in training loop:\n",
        "\n",
        "0.   Looping through the data\n",
        "1.   Forward pass/propagation- involves data moving through our model's `forward()` functions\n",
        "2.   Calculate the loss (compare forward pass predictions to ground truth labels)\n",
        "3.   Optimizer zero grad\n",
        "4.   Loss backward - move backwards through the network to calculate the gradients of each of the parameters of our model with respect to the loss\n",
        "5.   Optimizer step **(gradient descent)**- use the optimizer to adjust our model's params to adjust the loss.\n",
        "\n"
      ],
      "metadata": {
        "id": "84Ms_xcrL5HQ"
      }
    },
    {
      "cell_type": "code",
      "source": [
        "list(model_0.parameters())"
      ],
      "metadata": {
        "colab": {
          "base_uri": "https://localhost:8080/"
        },
        "id": "4vHs0PPzSXY-",
        "outputId": "88efeb41-347e-4ece-9f2c-f4d673ac618c"
      },
      "execution_count": 14,
      "outputs": [
        {
          "output_type": "execute_result",
          "data": {
            "text/plain": [
              "[Parameter containing:\n",
              " tensor([-0.4868], requires_grad=True),\n",
              " Parameter containing:\n",
              " tensor([-0.6038], requires_grad=True)]"
            ]
          },
          "metadata": {},
          "execution_count": 14
        }
      ]
    },
    {
      "cell_type": "code",
      "source": [
        "with torch.inference_mode():            # or torch.no_grad()\n",
        "    list(model_0.eval().parameters())"
      ],
      "metadata": {
        "id": "myXnNYOdSunz"
      },
      "execution_count": 15,
      "outputs": []
    },
    {
      "cell_type": "code",
      "source": [
        "print(f\"Before running the training loop: {model_0.state_dict()}\")"
      ],
      "metadata": {
        "colab": {
          "base_uri": "https://localhost:8080/"
        },
        "id": "jHzYjkIrX0g3",
        "outputId": "a3b11700-0bdd-438c-e3cc-1bbcf703512d"
      },
      "execution_count": 16,
      "outputs": [
        {
          "output_type": "stream",
          "name": "stdout",
          "text": [
            "Before running the training loop: OrderedDict({'weights': tensor([-0.4868]), 'bias': tensor([-0.6038])})\n"
          ]
        }
      ]
    },
    {
      "cell_type": "code",
      "source": [
        "torch.manual_seed(5)\n",
        "\n",
        "# An apoch is one loop through the data\n",
        "epochs = 2001\n",
        "\n",
        "# tracking experiments - track different values\n",
        "epoch_count = []\n",
        "loss_values = []\n",
        "test_loss_values = []\n",
        "\n",
        "# 0. loop through the data\n",
        "for epoch in range(epochs):\n",
        "\n",
        "    # Set the model to training mode\n",
        "    model_0.train()                         # now all the parameters which require gradients will be required to account the gradients\n",
        "\n",
        "    # 1. Forward pass\n",
        "    y_pred = model_0(X_train)\n",
        "\n",
        "    # 2. Calculate the loss\n",
        "    loss = loss_fn(y_pred, y_train)         # input first, target next\n",
        "    if epoch % 100 == 0:\n",
        "        print(f\"Loss at epoch {epoch}: {loss}\")\n",
        "\n",
        "    # 3. Optimizer zero grad\n",
        "    optimizer.zero_grad()\n",
        "\n",
        "    # 4. Perform back propagation\n",
        "    loss.backward()\n",
        "\n",
        "    # 5. Set the optimizer (perform gradient descent)\n",
        "    optimizer.step()                        # reset the accumulated optimizer changes back to 0\n",
        "\n",
        "    model_0.eval()                          # turns off gradient tracking\n",
        "    with torch.inference_mode():\n",
        "        # 1. do the forward pass\n",
        "        test_pred = model_0(X_test)\n",
        "\n",
        "        # 2. calculate the loss\n",
        "        test_loss = loss_fn(test_pred, y_test)\n",
        "\n",
        "    # print out what's happening\n",
        "    if epoch % 1000 == 0:\n",
        "        epoch_count.append(epoch)\n",
        "        loss_values.append(loss)\n",
        "        test_loss_values.append(test_loss)\n",
        "        print(f\"Loss: {loss} | Test loss: {test_loss}\\n\")\n",
        "\n"
      ],
      "metadata": {
        "colab": {
          "base_uri": "https://localhost:8080/"
        },
        "id": "-qIftgSjLbry",
        "outputId": "330dcc4b-aa8e-47c7-ff3e-be2471511d67"
      },
      "execution_count": 17,
      "outputs": [
        {
          "output_type": "stream",
          "name": "stdout",
          "text": [
            "Loss at epoch 0: 1.3310626745224\n",
            "Loss: 1.3310626745224 | Test loss: 1.911357045173645\n",
            "\n",
            "Loss at epoch 100: 0.22930103540420532\n",
            "Loss at epoch 200: 0.11151206493377686\n",
            "Loss at epoch 300: 0.08147313445806503\n",
            "Loss at epoch 400: 0.051437344402074814\n",
            "Loss at epoch 500: 0.021401768550276756\n",
            "Loss at epoch 600: 0.006217827554792166\n",
            "Loss at epoch 700: 0.006217827554792166\n",
            "Loss at epoch 800: 0.006217827554792166\n",
            "Loss at epoch 900: 0.006217827554792166\n",
            "Loss at epoch 1000: 0.006217827554792166\n",
            "Loss: 0.006217827554792166 | Test loss: 0.0027968240901827812\n",
            "\n",
            "Loss at epoch 1100: 0.006217827554792166\n",
            "Loss at epoch 1200: 0.006217827554792166\n",
            "Loss at epoch 1300: 0.006217827554792166\n",
            "Loss at epoch 1400: 0.006217827554792166\n",
            "Loss at epoch 1500: 0.006217827554792166\n",
            "Loss at epoch 1600: 0.006217827554792166\n",
            "Loss at epoch 1700: 0.006217827554792166\n",
            "Loss at epoch 1800: 0.006217827554792166\n",
            "Loss at epoch 1900: 0.006217827554792166\n",
            "Loss at epoch 2000: 0.006217827554792166\n",
            "Loss: 0.006217827554792166 | Test loss: 0.0027968240901827812\n",
            "\n"
          ]
        }
      ]
    },
    {
      "cell_type": "markdown",
      "source": [
        "**Notice the difference here...**"
      ],
      "metadata": {
        "id": "_Bb8xtMgnrIZ"
      }
    },
    {
      "cell_type": "code",
      "source": [
        "print(f\"After running the training loop: {model_0.state_dict()}\")"
      ],
      "metadata": {
        "colab": {
          "base_uri": "https://localhost:8080/"
        },
        "id": "F7uBueg-ni0C",
        "outputId": "a1d3019b-213b-4fd1-c33d-d8360b9fb6a1"
      },
      "execution_count": 18,
      "outputs": [
        {
          "output_type": "stream",
          "name": "stdout",
          "text": [
            "After running the training loop: OrderedDict({'weights': tensor([0.6954]), 'bias': tensor([0.3067])})\n"
          ]
        }
      ]
    },
    {
      "cell_type": "code",
      "source": [
        "print(f\"Target to be reached: {weight} and {bias}\")"
      ],
      "metadata": {
        "colab": {
          "base_uri": "https://localhost:8080/"
        },
        "id": "X9Sr7hLBoGTG",
        "outputId": "081fa442-53a6-47bb-9322-0471ff27dba8"
      },
      "execution_count": 19,
      "outputs": [
        {
          "output_type": "stream",
          "name": "stdout",
          "text": [
            "Target to be reached: 0.7 and 0.3\n"
          ]
        }
      ]
    },
    {
      "cell_type": "code",
      "source": [
        "with torch.inference_mode():\n",
        "    y_preds = model_0(X_test)"
      ],
      "metadata": {
        "id": "py4oUbFcoxS0"
      },
      "execution_count": 20,
      "outputs": []
    },
    {
      "cell_type": "code",
      "source": [
        "plot_predictions(predictions=y_preds)"
      ],
      "metadata": {
        "colab": {
          "base_uri": "https://localhost:8080/",
          "height": 581
        },
        "id": "SFrQjcMBoeot",
        "outputId": "f2d36875-0be4-43be-b681-bdb16012a139"
      },
      "execution_count": 21,
      "outputs": [
        {
          "output_type": "display_data",
          "data": {
            "text/plain": [
              "<Figure size 1000x700 with 1 Axes>"
            ],
            "image/png": "[encoded data removed]"
          },
          "metadata": {}
        }
      ]
    },
    {
      "cell_type": "code",
      "source": [
        "# plotting the loss curves\n",
        "try:\n",
        "    plt.plot(epoch_count, loss_values, label=\"Train loss\")\n",
        "    plt.plot(epoch_count, test_loss_values, label=\"Test loss\")\n",
        "    plt.title(\"Training and test loss curves\")\n",
        "    plt.ylabel(\"Loss\")\n",
        "    plt.xlabel(\"Epochs\")\n",
        "    plt.legend();\n",
        "\n",
        "except Exception as e:\n",
        "    pass\n",
        "\n",
        "import numpy as np\n",
        "# the code is still not working because of the datatype of elements inside the lists\n",
        "# we first have to convert it into numpy array\n",
        "print(type(epoch_count[0]), type(loss_values[0]), type(test_loss_values[0]))"
      ],
      "metadata": {
        "colab": {
          "base_uri": "https://localhost:8080/",
          "height": 452
        },
        "id": "l-QJktgRc2OU",
        "outputId": "77cce709-9d7c-4a21-bea9-f94995b0a960"
      },
      "execution_count": 28,
      "outputs": [
        {
          "output_type": "stream",
          "name": "stdout",
          "text": [
            "<class 'int'> <class 'torch.Tensor'> <class 'torch.Tensor'>\n"
          ]
        },
        {
          "output_type": "display_data",
          "data": {
            "text/plain": [
              "<Figure size 640x480 with 1 Axes>"
            ],
            "image/png": "[encoded data removed]"
          },
          "metadata": {}
        }
      ]
    },
    {
      "cell_type": "code",
      "source": [
        "import numpy as np\n",
        "\n",
        "plt.plot(np.array(torch.tensor(epoch_count).numpy()), np.array(torch.tensor(loss_values).numpy()), label=\"Train loss\")\n",
        "plt.plot(np.array(torch.tensor(epoch_count).numpy()), np.array(torch.tensor(test_loss_values).numpy()), label=\"Test loss\")\n",
        "plt.title(\"Training and test loss curves\")\n",
        "plt.ylabel(\"Loss\")\n",
        "plt.xlabel(\"Epochs\")\n",
        "plt.grid()\n",
        "plt.legend();"
      ],
      "metadata": {
        "colab": {
          "base_uri": "https://localhost:8080/",
          "height": 544
        },
        "id": "NIvzjwYJf6Mu",
        "outputId": "159cdfb4-d401-41cd-c924-c1f46d1a5b92"
      },
      "execution_count": 31,
      "outputs": [
        {
          "output_type": "stream",
          "name": "stderr",
          "text": [
            "/tmp/ipython-input-4113263780.py:3: UserWarning: Converting a tensor with requires_grad=True to a scalar may lead to unexpected behavior.\n",
            "Consider using tensor.detach() first. (Triggered internally at /pytorch/torch/csrc/autograd/generated/python_variable_methods.cpp:835.)\n",
            "  plt.plot(np.array(torch.tensor(epoch_count).numpy()), np.array(torch.tensor(loss_values).numpy()), label=\"Train loss\")\n"
          ]
        },
        {
          "output_type": "display_data",
          "data": {
            "text/plain": [
              "<Figure size 640x480 with 1 Axes>"
            ],
            "image/png": "[encoded data removed]"
          },
          "metadata": {}
        }
      ]
    },
    {
      "cell_type": "code",
      "source": [
        "# dictionary which holds the params in the model\n",
        "model_0.state_dict()"
      ],
      "metadata": {
        "id": "kPJUjzZIienC",
        "outputId": "8cd4caeb-aa14-462d-93d7-339134230ef8",
        "colab": {
          "base_uri": "https://localhost:8080/"
        }
      },
      "execution_count": 30,
      "outputs": [
        {
          "output_type": "execute_result",
          "data": {
            "text/plain": [
              "OrderedDict([('weights', tensor([0.6954])), ('bias', tensor([0.3067]))])"
            ]
          },
          "metadata": {},
          "execution_count": 30
        }
      ]
    },
    {
      "cell_type": "markdown",
      "source": [
        "## Saving a model in PyTorch\n",
        "\n",
        "There are three main methods which help in saving and loading PyTorch models.\n",
        "\n",
        "1. `torch.save()` - allows you to save a model in Pickle format     \n",
        "2. `torch.load()` - allows you to load the model which was saved in pickle format\n",
        "3. `torch.nn.Module.load_state_dict()` - allows to load a model's state dict"
      ],
      "metadata": {
        "id": "qVZikFxJiLIl"
      }
    },
    {
      "cell_type": "code",
      "source": [
        "from pathlib import Path\n",
        "\n",
        "# 1. create model dir\n",
        "MODEL_PATH = Path(\"models\")\n",
        "MODEL_PATH.mkdir(\n",
        "    parents=True,\n",
        "    exist_ok=True\n",
        ")\n",
        "\n",
        "# 2. Create model save path\n",
        "MODEL_NAME = \"01_workflow_model.pt\"\n",
        "MODEL_SAVE_PATH = MODEL_PATH/MODEL_NAME\n",
        "\n",
        "# 3. Saving the state dict\n",
        "print(f\"Saving the path in the path: {MODEL_SAVE_PATH}\")\n",
        "torch.save(\n",
        "    obj=model_0.state_dict(),\n",
        "    f=MODEL_SAVE_PATH\n",
        ")"
      ],
      "metadata": {
        "id": "3ABp4Af3iwI-",
        "outputId": "4bf59321-a546-43d5-fb02-933b925f3daf",
        "colab": {
          "base_uri": "https://localhost:8080/"
        }
      },
      "execution_count": 33,
      "outputs": [
        {
          "output_type": "stream",
          "name": "stdout",
          "text": [
            "Saving the path in the path: models/01_workflow_model.pt\n"
          ]
        }
      ]
    },
    {
      "cell_type": "code",
      "source": [
        "!ls -l models"
      ],
      "metadata": {
        "id": "2Fg-_dN0m3hb",
        "outputId": "10f145a5-b473-4c3a-c8f6-2925906dfdee",
        "colab": {
          "base_uri": "https://localhost:8080/"
        }
      },
      "execution_count": 34,
      "outputs": [
        {
          "output_type": "stream",
          "name": "stdout",
          "text": [
            "total 4\n",
            "-rw-r--r-- 1 root root 1973 Sep 27 09:57 01_workflow_model.pt\n"
          ]
        }
      ]
    },
    {
      "cell_type": "markdown",
      "source": [
        "## Loading a PyTorch model\n",
        "\n",
        "Since we saved our model's `state_dict()` rather than the entire model, we will create a new isntance of our model and load the `state_dict()` into that."
      ],
      "metadata": {
        "id": "ADNTee8pq4MP"
      }
    },
    {
      "cell_type": "code",
      "source": [
        "model_0.state_dict()"
      ],
      "metadata": {
        "id": "fXkC_JSiq2JL",
        "outputId": "7eab201c-e1b2-4efd-cebe-9997df552fc6",
        "colab": {
          "base_uri": "https://localhost:8080/"
        }
      },
      "execution_count": 35,
      "outputs": [
        {
          "output_type": "execute_result",
          "data": {
            "text/plain": [
              "OrderedDict([('weights', tensor([0.6954])), ('bias', tensor([0.3067]))])"
            ]
          },
          "metadata": {},
          "execution_count": 35
        }
      ]
    },
    {
      "cell_type": "code",
      "source": [
        "# To load in a saved state_dict, we have to instantiate a new onstance of our model class\n",
        "loaded_model_0 = LinearRegressionModel()\n",
        "\n",
        "# Load the samed state_dict of mdoel_0 - update the new instance with uploaded params\n",
        "loaded_model_0.load_state_dict(torch.load(f=MODEL_SAVE_PATH))"
      ],
      "metadata": {
        "id": "gkJY2cNWrO0J",
        "outputId": "8d3f6042-cd96-4047-d7b0-e72be1a416fc",
        "colab": {
          "base_uri": "https://localhost:8080/"
        }
      },
      "execution_count": 37,
      "outputs": [
        {
          "output_type": "execute_result",
          "data": {
            "text/plain": [
              "<All keys matched successfully>"
            ]
          },
          "metadata": {},
          "execution_count": 37
        }
      ]
    },
    {
      "cell_type": "code",
      "source": [
        "loaded_model_0.state_dict()"
      ],
      "metadata": {
        "id": "1XUcG-Ttsnco",
        "outputId": "9b343052-7cf5-4d99-8c27-4a45941e81bd",
        "colab": {
          "base_uri": "https://localhost:8080/"
        }
      },
      "execution_count": 38,
      "outputs": [
        {
          "output_type": "execute_result",
          "data": {
            "text/plain": [
              "OrderedDict([('weights', tensor([0.6954])), ('bias', tensor([0.3067]))])"
            ]
          },
          "metadata": {},
          "execution_count": 38
        }
      ]
    },
    {
      "cell_type": "code",
      "source": [
        "# Make some predictions with our loaded model\n",
        "loaded_model_0.eval()\n",
        "with torch.inference_mode():\n",
        "    loaded_model_preds = loaded_model_0(X_test)\n",
        "\n",
        "loaded_model_preds"
      ],
      "metadata": {
        "id": "VZMwZJ30s4nZ",
        "outputId": "23ca48ee-d11f-44be-8df6-2840a4ecd38f",
        "colab": {
          "base_uri": "https://localhost:8080/"
        }
      },
      "execution_count": 39,
      "outputs": [
        {
          "output_type": "execute_result",
          "data": {
            "text/plain": [
              "tensor([[0.8213],\n",
              "        [0.8353],\n",
              "        [0.8492],\n",
              "        [0.8631],\n",
              "        [0.8770],\n",
              "        [0.8909],\n",
              "        [0.9048],\n",
              "        [0.9187],\n",
              "        [0.9326],\n",
              "        [0.9465],\n",
              "        [0.9604],\n",
              "        [0.9743],\n",
              "        [0.9882]])"
            ]
          },
          "metadata": {},
          "execution_count": 39
        }
      ]
    },
    {
      "cell_type": "code",
      "source": [
        "# Make prediction using the model_0\n",
        "with torch.inference_mode():\n",
        "    og_model_preds = model_0(X_test)\n",
        "\n",
        "print(og_model_preds, \"\\n\")\n",
        "print(og_model_preds == loaded_model_preds)"
      ],
      "metadata": {
        "id": "RJGSU7GjtIzA",
        "outputId": "8ca10563-7529-4bfc-e927-6510255d296d",
        "colab": {
          "base_uri": "https://localhost:8080/"
        }
      },
      "execution_count": 44,
      "outputs": [
        {
          "output_type": "stream",
          "name": "stdout",
          "text": [
            "tensor([[0.8213],\n",
            "        [0.8353],\n",
            "        [0.8492],\n",
            "        [0.8631],\n",
            "        [0.8770],\n",
            "        [0.8909],\n",
            "        [0.9048],\n",
            "        [0.9187],\n",
            "        [0.9326],\n",
            "        [0.9465],\n",
            "        [0.9604],\n",
            "        [0.9743],\n",
            "        [0.9882]]) \n",
            "\n",
            "tensor([[True],\n",
            "        [True],\n",
            "        [True],\n",
            "        [True],\n",
            "        [True],\n",
            "        [True],\n",
            "        [True],\n",
            "        [True],\n",
            "        [True],\n",
            "        [True],\n",
            "        [True],\n",
            "        [True],\n",
            "        [True]])\n"
          ]
        }
      ]
    },
    {
      "cell_type": "markdown",
      "source": [
        "#"
      ],
      "metadata": {
        "id": "scxkOJ9uxMRr"
      }
    },
    {
      "cell_type": "code",
      "source": [],
      "metadata": {
        "id": "Kz3xbn42ty-D"
      },
      "execution_count": null,
      "outputs": []
    }
  ]
}