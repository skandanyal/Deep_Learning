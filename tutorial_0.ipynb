{
  "cells": [
    {
      "cell_type": "markdown",
      "metadata": {
        "id": "view-in-github",
        "colab_type": "text"
      },
      "source": [
        "<a href=\"https://colab.research.google.com/github/skandanyal/Deep_Learning/blob/main/tutorial_0.ipynb\" target=\"_parent\"><img src=\"https://colab.research.google.com/assets/colab-badge.svg\" alt=\"Open In Colab\"/></a>"
      ]
    },
    {
      "cell_type": "code",
      "id": "initial_id",
      "metadata": {
        "collapsed": true,
        "ExecuteTime": {
          "end_time": "2025-08-20T08:02:15.707696Z",
          "start_time": "2025-08-20T08:02:15.703228Z"
        },
        "colab": {
          "base_uri": "https://localhost:8080/"
        },
        "id": "initial_id",
        "outputId": "f507c3a2-4f82-4bf9-b7fd-418726199b53"
      },
      "source": [
        "import torch\n",
        "\n",
        "print(torch.__version__)\n",
        "print(torch.cuda.is_available())"
      ],
      "outputs": [
        {
          "output_type": "stream",
          "name": "stdout",
          "text": [
            "2.8.0+cu126\n",
            "True\n"
          ]
        }
      ],
      "execution_count": null
    },
    {
      "metadata": {
        "id": "f19382a4435d64d2"
      },
      "cell_type": "markdown",
      "source": [
        "### Information about tensors\n",
        "\n",
        "1. To get the datatype of a tensor, use `tensor.dtype`\n",
        "2. To get the shape of a tensor, use `tensor.shape`\n",
        "3. To get device from a tensor, use `tensor.device`"
      ],
      "id": "f19382a4435d64d2"
    },
    {
      "metadata": {
        "ExecuteTime": {
          "end_time": "2025-08-20T08:02:15.759937Z",
          "start_time": "2025-08-20T08:02:15.751045Z"
        },
        "colab": {
          "base_uri": "https://localhost:8080/"
        },
        "id": "933c1f2c339ae21",
        "outputId": "8800a8b5-2027-4af5-d249-b751933293d0"
      },
      "cell_type": "code",
      "source": [
        "# create a tensor\n",
        "\n",
        "tensor = torch.rand(3,5)\n",
        "tensor"
      ],
      "id": "933c1f2c339ae21",
      "outputs": [
        {
          "output_type": "execute_result",
          "data": {
            "text/plain": [
              "tensor([[0.1321, 0.2743, 0.9997, 0.4763, 0.8292],\n",
              "        [0.1569, 0.7626, 0.6836, 0.0980, 0.2187],\n",
              "        [0.1775, 0.1904, 0.9159, 0.0085, 0.4250]])"
            ]
          },
          "metadata": {},
          "execution_count": 2
        }
      ],
      "execution_count": null
    },
    {
      "metadata": {
        "ExecuteTime": {
          "end_time": "2025-08-20T08:02:15.871169Z",
          "start_time": "2025-08-20T08:02:15.867646Z"
        },
        "colab": {
          "base_uri": "https://localhost:8080/"
        },
        "id": "b867bd698b106532",
        "outputId": "0779416a-0589-4ae4-d2c3-0e1aabd3a49a"
      },
      "cell_type": "code",
      "source": [
        "# find out details about the tensor\n",
        "\n",
        "print(f\"Datatype of tensor: {tensor.dtype}\")\n",
        "print(f\"Shape of tensor: {tensor.shape}\")\n",
        "print(f\"Device of tensor: {tensor.device}\")"
      ],
      "id": "b867bd698b106532",
      "outputs": [
        {
          "output_type": "stream",
          "name": "stdout",
          "text": [
            "Datatype of tensor: torch.float32\n",
            "Shape of tensor: torch.Size([3, 5])\n",
            "Device of tensor: cpu\n"
          ]
        }
      ],
      "execution_count": null
    },
    {
      "metadata": {
        "id": "4644e4ddc8583065"
      },
      "cell_type": "markdown",
      "source": [
        "### Tensor ops\n",
        "\n",
        "* Addition\n",
        "* Subtraction\n",
        "* Multiplication - element wise\n",
        "* Division\n",
        "* Matrix multiplication"
      ],
      "id": "4644e4ddc8583065"
    },
    {
      "metadata": {
        "ExecuteTime": {
          "end_time": "2025-08-20T08:02:16.121536Z",
          "start_time": "2025-08-20T08:02:16.117966Z"
        },
        "colab": {
          "base_uri": "https://localhost:8080/"
        },
        "id": "ef9f8cf065a5081c",
        "outputId": "7e8122b0-30c7-4254-ac9f-b2c32faa4418"
      },
      "cell_type": "code",
      "source": [
        "# Addition\n",
        "\n",
        "print(tensor + 10)"
      ],
      "id": "ef9f8cf065a5081c",
      "outputs": [
        {
          "output_type": "stream",
          "name": "stdout",
          "text": [
            "tensor([[10.1321, 10.2743, 10.9997, 10.4763, 10.8292],\n",
            "        [10.1569, 10.7626, 10.6836, 10.0980, 10.2187],\n",
            "        [10.1775, 10.1904, 10.9159, 10.0085, 10.4250]])\n"
          ]
        }
      ],
      "execution_count": null
    },
    {
      "metadata": {
        "ExecuteTime": {
          "end_time": "2025-08-20T08:02:16.234588Z",
          "start_time": "2025-08-20T08:02:16.230257Z"
        },
        "colab": {
          "base_uri": "https://localhost:8080/"
        },
        "id": "e99e1cbb65d95bbf",
        "outputId": "b77f3f30-2ca7-4841-c697-231c50ee6b95"
      },
      "cell_type": "code",
      "source": [
        "# Multiplication\n",
        "\n",
        "print(tensor * 10)"
      ],
      "id": "e99e1cbb65d95bbf",
      "outputs": [
        {
          "output_type": "stream",
          "name": "stdout",
          "text": [
            "tensor([[1.3211, 2.7426, 9.9970, 4.7634, 8.2922],\n",
            "        [1.5688, 7.6265, 6.8362, 0.9800, 2.1868],\n",
            "        [1.7751, 1.9040, 9.1586, 0.0851, 4.2501]])\n"
          ]
        }
      ],
      "execution_count": null
    },
    {
      "metadata": {
        "ExecuteTime": {
          "end_time": "2025-08-20T08:02:16.298134Z",
          "start_time": "2025-08-20T08:02:16.293950Z"
        },
        "colab": {
          "base_uri": "https://localhost:8080/"
        },
        "id": "815ff817a9e38c99",
        "outputId": "d06843e8-cb52-4656-e4bf-f0ffa46a9005"
      },
      "cell_type": "code",
      "source": [
        "# Division\n",
        "\n",
        "print(tensor / 10)"
      ],
      "id": "815ff817a9e38c99",
      "outputs": [
        {
          "output_type": "stream",
          "name": "stdout",
          "text": [
            "tensor([[0.0132, 0.0274, 0.1000, 0.0476, 0.0829],\n",
            "        [0.0157, 0.0763, 0.0684, 0.0098, 0.0219],\n",
            "        [0.0178, 0.0190, 0.0916, 0.0009, 0.0425]])\n"
          ]
        }
      ],
      "execution_count": null
    },
    {
      "metadata": {
        "ExecuteTime": {
          "end_time": "2025-08-20T08:02:16.378446Z",
          "start_time": "2025-08-20T08:02:16.371115Z"
        },
        "colab": {
          "base_uri": "https://localhost:8080/"
        },
        "id": "adc6556cd8d34123",
        "outputId": "92aff041-dc3a-4b68-f119-8c58b0212669"
      },
      "cell_type": "code",
      "source": [
        "print(torch.mul(tensor, 5))\n",
        "print(torch.multiply(tensor, 5))"
      ],
      "id": "adc6556cd8d34123",
      "outputs": [
        {
          "output_type": "stream",
          "name": "stdout",
          "text": [
            "tensor([[0.6606, 1.3713, 4.9985, 2.3817, 4.1461],\n",
            "        [0.7844, 3.8132, 3.4181, 0.4900, 1.0934],\n",
            "        [0.8875, 0.9520, 4.5793, 0.0425, 2.1251]])\n",
            "tensor([[0.6606, 1.3713, 4.9985, 2.3817, 4.1461],\n",
            "        [0.7844, 3.8132, 3.4181, 0.4900, 1.0934],\n",
            "        [0.8875, 0.9520, 4.5793, 0.0425, 2.1251]])\n"
          ]
        }
      ],
      "execution_count": null
    },
    {
      "metadata": {
        "id": "a28007e8ad5d087e"
      },
      "cell_type": "markdown",
      "source": [
        "### Two main ways of matric multiplication\n",
        "\n",
        "* Element wise multiplication (scalar * matrix)\n",
        "* Dot product"
      ],
      "id": "a28007e8ad5d087e"
    },
    {
      "metadata": {
        "ExecuteTime": {
          "end_time": "2025-08-20T08:02:16.494089Z",
          "start_time": "2025-08-20T08:02:16.441803Z"
        },
        "colab": {
          "base_uri": "https://localhost:8080/"
        },
        "id": "839c227fb9e053da",
        "outputId": "d7b1f403-870e-4e8d-b309-402466620c54"
      },
      "cell_type": "code",
      "source": [
        "# Element wise multiplication\n",
        "\n",
        "tensor = torch.tensor([1,2,3])\n",
        "print(tensor.to(\"cuda\") * tensor.to(torch.device(\"cuda\")))\n",
        "print(tensor.to(\"cpu\"))\n",
        "print(tensor / tensor)\n",
        "print(torch.matmul(tensor, tensor))"
      ],
      "id": "839c227fb9e053da",
      "outputs": [
        {
          "output_type": "stream",
          "name": "stdout",
          "text": [
            "tensor([1, 4, 9], device='cuda:0')\n",
            "tensor([1, 2, 3])\n",
            "tensor([1., 1., 1.])\n",
            "tensor(14)\n"
          ]
        }
      ],
      "execution_count": null
    },
    {
      "metadata": {
        "ExecuteTime": {
          "end_time": "2025-08-20T08:02:16.510890129Z",
          "start_time": "2025-08-19T06:35:27.172549Z"
        },
        "id": "e12c727842a4ce6b"
      },
      "cell_type": "code",
      "source": [
        "# shapes for matric multiplication\n",
        "\n",
        "tensor_A = torch.tensor(\n",
        "    [[1,2],\n",
        "     [3,4],\n",
        "     [5,6]]\n",
        ")\n",
        "\n",
        "# torch.mm(tensor_A, tensor_A)"
      ],
      "id": "e12c727842a4ce6b",
      "outputs": [],
      "execution_count": null
    },
    {
      "metadata": {
        "ExecuteTime": {
          "end_time": "2025-08-20T08:02:16.512716552Z",
          "start_time": "2025-08-19T06:36:16.373394Z"
        },
        "colab": {
          "base_uri": "https://localhost:8080/"
        },
        "id": "64f73c8c7c84f077",
        "outputId": "ec82124c-4216-40bc-e59c-8e2572f3c500"
      },
      "cell_type": "code",
      "source": [
        "tensor_B = torch.tensor([\n",
        "    [1,2,4],\n",
        "    [5,6,8]\n",
        "])\n",
        "\n",
        "torch.mm(tensor_A, tensor_B)"
      ],
      "id": "64f73c8c7c84f077",
      "outputs": [
        {
          "output_type": "execute_result",
          "data": {
            "text/plain": [
              "tensor([[11, 14, 20],\n",
              "        [23, 30, 44],\n",
              "        [35, 46, 68]])"
            ]
          },
          "metadata": {},
          "execution_count": 10
        }
      ],
      "execution_count": null
    },
    {
      "metadata": {
        "ExecuteTime": {
          "end_time": "2025-08-20T08:02:16.520758961Z",
          "start_time": "2025-08-19T06:37:57.926848Z"
        },
        "colab": {
          "base_uri": "https://localhost:8080/"
        },
        "id": "f67cef51361fc1b5",
        "outputId": "b34ebfe4-5179-406c-db2c-3c07b2b0fccc"
      },
      "cell_type": "code",
      "source": [
        "torch.matmul(tensor_A, tensor_A.T)"
      ],
      "id": "f67cef51361fc1b5",
      "outputs": [
        {
          "output_type": "execute_result",
          "data": {
            "text/plain": [
              "tensor([[ 5, 11, 17],\n",
              "        [11, 25, 39],\n",
              "        [17, 39, 61]])"
            ]
          },
          "metadata": {},
          "execution_count": 11
        }
      ],
      "execution_count": null
    },
    {
      "metadata": {
        "ExecuteTime": {
          "end_time": "2025-08-20T08:02:16.522037123Z",
          "start_time": "2025-08-20T08:02:12.381817Z"
        },
        "colab": {
          "base_uri": "https://localhost:8080/"
        },
        "id": "5ce77a8639e7babd",
        "outputId": "a69f4ee4-324f-448c-93a1-e52084688dcb"
      },
      "cell_type": "code",
      "source": [
        "print(f\"1. {tensor_A.argmax()}\")\n",
        "print(f\"2. {tensor_A.argmax().item()}\")"
      ],
      "id": "5ce77a8639e7babd",
      "outputs": [
        {
          "output_type": "stream",
          "name": "stdout",
          "text": [
            "1. 5\n",
            "2. 5\n"
          ]
        }
      ],
      "execution_count": null
    },
    {
      "cell_type": "markdown",
      "source": [
        "## Reshaping, stacking, squeexing and unsqueezing tensors\n",
        "\n",
        "* Reshaping - reshapes in input tensor to a defined shape\n",
        "* View - shows the same tensor, but from a different perspective\n",
        "* Stacking - combining multiple tensors on top of each other (vertical stack) or side by side (horizontle stack)\n",
        "* Squeeze - removes all `1` dimensions from a tensor\n",
        "* Unsqueeze - adds a `1` dimension to a target tensor\n",
        "* permute - returns a view of the input with dimensions permuted (swapped) in a certain way"
      ],
      "metadata": {
        "id": "OUbluhRchNC-"
      },
      "id": "OUbluhRchNC-"
    },
    {
      "cell_type": "code",
      "source": [
        "# create a tensor\n",
        "\n",
        "import torch\n",
        "\n",
        "x = torch.arange(1,10)\n",
        "print(x, x.shape)"
      ],
      "metadata": {
        "colab": {
          "base_uri": "https://localhost:8080/"
        },
        "id": "VH5arljahMEb",
        "outputId": "ebb1eda7-53c0-4d13-b774-43e99162c8a8"
      },
      "id": "VH5arljahMEb",
      "execution_count": null,
      "outputs": [
        {
          "output_type": "stream",
          "name": "stdout",
          "text": [
            "tensor([1, 2, 3, 4, 5, 6, 7, 8, 9]) torch.Size([9])\n"
          ]
        }
      ]
    },
    {
      "cell_type": "code",
      "source": [
        "# add an extra dimension\n",
        "\n",
        "x_reshaped = x.reshape(3,3)\n",
        "print(x_reshaped, x_reshaped.shape)"
      ],
      "metadata": {
        "colab": {
          "base_uri": "https://localhost:8080/"
        },
        "id": "8HgQ1QS6iHL2",
        "outputId": "e6437b60-4005-4736-b974-e260e10abad8"
      },
      "id": "8HgQ1QS6iHL2",
      "execution_count": null,
      "outputs": [
        {
          "output_type": "stream",
          "name": "stdout",
          "text": [
            "tensor([[1, 2, 3],\n",
            "        [4, 5, 6],\n",
            "        [7, 8, 9]]) torch.Size([3, 3])\n"
          ]
        }
      ]
    },
    {
      "cell_type": "code",
      "source": [
        "# change the view\n",
        "\n",
        "x_reshaped.view(9, 1)"
      ],
      "metadata": {
        "colab": {
          "base_uri": "https://localhost:8080/"
        },
        "id": "51bZAl8LilyU",
        "outputId": "22d8c18c-7d13-4af8-c05c-07df80511648"
      },
      "id": "51bZAl8LilyU",
      "execution_count": null,
      "outputs": [
        {
          "output_type": "execute_result",
          "data": {
            "text/plain": [
              "tensor([[1],\n",
              "        [2],\n",
              "        [3],\n",
              "        [4],\n",
              "        [5],\n",
              "        [6],\n",
              "        [7],\n",
              "        [8],\n",
              "        [9]])"
            ]
          },
          "metadata": {},
          "execution_count": 17
        }
      ]
    },
    {
      "cell_type": "code",
      "source": [
        "# stack tensors on top of each other\n",
        "\n",
        "x_stacked = torch.stack([x,x,x,x], dim=1)\n",
        "x_stacked"
      ],
      "metadata": {
        "colab": {
          "base_uri": "https://localhost:8080/"
        },
        "id": "p1WYSMA1jcEG",
        "outputId": "2ed77ba2-b2d2-4096-c760-b90beeec60c0"
      },
      "id": "p1WYSMA1jcEG",
      "execution_count": null,
      "outputs": [
        {
          "output_type": "execute_result",
          "data": {
            "text/plain": [
              "tensor([[1, 1, 1, 1],\n",
              "        [2, 2, 2, 2],\n",
              "        [3, 3, 3, 3],\n",
              "        [4, 4, 4, 4],\n",
              "        [5, 5, 5, 5],\n",
              "        [6, 6, 6, 6],\n",
              "        [7, 7, 7, 7],\n",
              "        [8, 8, 8, 8],\n",
              "        [9, 9, 9, 9]])"
            ]
          },
          "metadata": {},
          "execution_count": 25
        }
      ]
    },
    {
      "cell_type": "code",
      "source": [
        "# torch.squeeze() removes all single dimensions from the target tensor\n",
        "\n",
        "x, x.shape"
      ],
      "metadata": {
        "colab": {
          "base_uri": "https://localhost:8080/"
        },
        "id": "4ZGXWLRKkRgv",
        "outputId": "a30ba92e-e31a-4e58-fad9-f2ddda733390"
      },
      "id": "4ZGXWLRKkRgv",
      "execution_count": null,
      "outputs": [
        {
          "output_type": "execute_result",
          "data": {
            "text/plain": [
              "(tensor([1, 2, 3, 4, 5, 6, 7, 8, 9]), torch.Size([9]))"
            ]
          },
          "metadata": {},
          "execution_count": 31
        }
      ]
    },
    {
      "cell_type": "code",
      "source": [
        "x.squeeze(), x.squeeze().shape\n",
        "\n",
        "# mm hmm.. we did not get the [9,1] by default, hence we are not able to see the function in action"
      ],
      "metadata": {
        "colab": {
          "base_uri": "https://localhost:8080/"
        },
        "id": "f4fTcPjnkuoH",
        "outputId": "376f6768-c6e2-488e-8caf-6248d9d760cf"
      },
      "id": "f4fTcPjnkuoH",
      "execution_count": null,
      "outputs": [
        {
          "output_type": "execute_result",
          "data": {
            "text/plain": [
              "(tensor([1, 2, 3, 4, 5, 6, 7, 8, 9]), torch.Size([9]))"
            ]
          },
          "metadata": {},
          "execution_count": 33
        }
      ]
    },
    {
      "cell_type": "code",
      "source": [
        "# torch.unsqueeze() adds a single dimension to a target tensor at a target tensor at a specidic dimension\n",
        "\n",
        "x_squeezed = x_reshaped.squeeze()\n",
        "print(f\"Previous target: {x_squeezed}\")\n",
        "print(f\"Previous shape: {x_squeezed.shape}\")\n",
        "\n",
        "# add an extra dimension with unsqueeze\n",
        "\n",
        "x_unsqueezed = x_squeezed.unsqueeze(dim=0)\n",
        "print(f\"\\nNew tensor: {x_unsqueezed}\")\n",
        "print(f\"New shape: {x_unsqueezed.shape}\")"
      ],
      "metadata": {
        "colab": {
          "base_uri": "https://localhost:8080/"
        },
        "id": "PMr7mGVEm4D0",
        "outputId": "c400c702-c072-4c78-9b2c-379e848018a1"
      },
      "id": "PMr7mGVEm4D0",
      "execution_count": null,
      "outputs": [
        {
          "output_type": "stream",
          "name": "stdout",
          "text": [
            "Previous target: tensor([[1, 2, 3],\n",
            "        [4, 5, 6],\n",
            "        [7, 8, 9]])\n",
            "Previous shape: torch.Size([3, 3])\n",
            "\n",
            "New tensor: tensor([[[1, 2, 3],\n",
            "         [4, 5, 6],\n",
            "         [7, 8, 9]]])\n",
            "New shape: torch.Size([1, 3, 3])\n"
          ]
        }
      ]
    },
    {
      "cell_type": "code",
      "source": [
        "# torch.permute() - rearranges the dimensiond od a target tensor in the specified way\n",
        "\n",
        "x_og = torch.rand(size=(224,224,3)) # height, width and colour_channels\n",
        "\n",
        "# permute the og tensor to rearrange the axes (or dimensions) order\n",
        "\n",
        "x_permuted = x_og.permute(2, 0, 1) # shifts the axis 0->1, 1->2, 2->0\n",
        "\n",
        "print(f\"Previous shape: {x_og.shape}\")\n",
        "print(f\"New shape: {x_permuted.shape}\") # colour_channels, height, width"
      ],
      "metadata": {
        "colab": {
          "base_uri": "https://localhost:8080/"
        },
        "id": "sJn_4FUGnr0O",
        "outputId": "bab28e66-1562-4c80-9849-23926d974a46"
      },
      "id": "sJn_4FUGnr0O",
      "execution_count": null,
      "outputs": [
        {
          "output_type": "stream",
          "name": "stdout",
          "text": [
            "Previous shape: torch.Size([224, 224, 3])\n",
            "New shape: torch.Size([3, 224, 224])\n"
          ]
        }
      ]
    },
    {
      "cell_type": "code",
      "source": [
        "# since the permuted tensor is a view of the original tensor, let us try by changing the value of a particular cell\n",
        "\n",
        "x_og[0,0,0] = 11111\n",
        "\n",
        "x_og[0,0,0], x_permuted[0,0,0]"
      ],
      "metadata": {
        "colab": {
          "base_uri": "https://localhost:8080/"
        },
        "id": "hOKvVSCio5Zo",
        "outputId": "20cd5184-7b7e-4ef1-8751-a5a790cfa948"
      },
      "id": "hOKvVSCio5Zo",
      "execution_count": null,
      "outputs": [
        {
          "output_type": "execute_result",
          "data": {
            "text/plain": [
              "(tensor(11111.), tensor(11111.))"
            ]
          },
          "metadata": {},
          "execution_count": 40
        }
      ]
    },
    {
      "cell_type": "markdown",
      "source": [
        "# Indexing (selecting data from tensors)\n",
        "\n",
        "Indexing with PyTorch is similar to indexing with NumPy"
      ],
      "metadata": {
        "id": "pV9ksVr9pj1k"
      },
      "id": "pV9ksVr9pj1k"
    },
    {
      "cell_type": "code",
      "source": [
        "# Create a tensor\n",
        "\n",
        "import torch\n",
        "\n",
        "x = torch.arange(1,10).reshape(1,3,3)\n",
        "x, x.shape"
      ],
      "metadata": {
        "colab": {
          "base_uri": "https://localhost:8080/"
        },
        "id": "QspwdnFJpi8T",
        "outputId": "a264b779-7d63-4475-c4d4-6903ea008505"
      },
      "id": "QspwdnFJpi8T",
      "execution_count": null,
      "outputs": [
        {
          "output_type": "execute_result",
          "data": {
            "text/plain": [
              "(tensor([[[1, 2, 3],\n",
              "          [4, 5, 6],\n",
              "          [7, 8, 9]]]),\n",
              " torch.Size([1, 3, 3]))"
            ]
          },
          "metadata": {},
          "execution_count": 1
        }
      ]
    },
    {
      "cell_type": "code",
      "source": [
        "# Let us index on our new tensor\n",
        "\n",
        "x[0]"
      ],
      "metadata": {
        "colab": {
          "base_uri": "https://localhost:8080/"
        },
        "id": "6XLDwFGQp4vL",
        "outputId": "42020021-d641-48a3-f8ea-c98c169ccc8c"
      },
      "id": "6XLDwFGQp4vL",
      "execution_count": null,
      "outputs": [
        {
          "output_type": "execute_result",
          "data": {
            "text/plain": [
              "tensor([[1, 2, 3],\n",
              "        [4, 5, 6],\n",
              "        [7, 8, 9]])"
            ]
          },
          "metadata": {},
          "execution_count": 2
        }
      ]
    },
    {
      "cell_type": "code",
      "source": [
        "# indexing on the middle bracket\n",
        "\n",
        "x[0][2]"
      ],
      "metadata": {
        "colab": {
          "base_uri": "https://localhost:8080/"
        },
        "id": "tFR4fLurqJb8",
        "outputId": "92556a22-b7fb-47a8-8ce6-ad1176934104"
      },
      "id": "tFR4fLurqJb8",
      "execution_count": null,
      "outputs": [
        {
          "output_type": "execute_result",
          "data": {
            "text/plain": [
              "tensor([7, 8, 9])"
            ]
          },
          "metadata": {},
          "execution_count": 3
        }
      ]
    },
    {
      "cell_type": "code",
      "source": [
        "# indexing on the third dimension\n",
        "\n",
        "x[0][1][2]"
      ],
      "metadata": {
        "colab": {
          "base_uri": "https://localhost:8080/"
        },
        "id": "W-8sb0xIqQ_2",
        "outputId": "903a0335-0c8d-4fc6-ed3f-37d8288f651f"
      },
      "id": "W-8sb0xIqQ_2",
      "execution_count": null,
      "outputs": [
        {
          "output_type": "execute_result",
          "data": {
            "text/plain": [
              "tensor(6)"
            ]
          },
          "metadata": {},
          "execution_count": 4
        }
      ]
    },
    {
      "cell_type": "code",
      "source": [
        "x[:, :, 2]"
      ],
      "metadata": {
        "colab": {
          "base_uri": "https://localhost:8080/"
        },
        "id": "o-T2P6Ayq8R3",
        "outputId": "facbce3e-e34a-45dc-dc8d-8a9e4a97093f"
      },
      "id": "o-T2P6Ayq8R3",
      "execution_count": null,
      "outputs": [
        {
          "output_type": "execute_result",
          "data": {
            "text/plain": [
              "tensor([[3, 6, 9]])"
            ]
          },
          "metadata": {},
          "execution_count": 5
        }
      ]
    },
    {
      "cell_type": "markdown",
      "source": [
        "## Reproducibility (trying to take out randomness out of randomness)\n",
        "\n",
        "How neural networks learn:    \n",
        "`start with random numbers` -> `tensor operations` -> `update random numbers to make them better represent the data` -> repeat\n",
        "\n"
      ],
      "metadata": {
        "id": "tz7cfQrmSJDi"
      },
      "id": "tz7cfQrmSJDi"
    },
    {
      "cell_type": "code",
      "source": [
        "import torch\n",
        "\n",
        "torch.rand((3,3))"
      ],
      "metadata": {
        "colab": {
          "base_uri": "https://localhost:8080/"
        },
        "id": "S8ozrJ2tSirH",
        "outputId": "c7eccaf1-47b4-41bc-cf29-6a6832bd89d5"
      },
      "id": "S8ozrJ2tSirH",
      "execution_count": null,
      "outputs": [
        {
          "output_type": "execute_result",
          "data": {
            "text/plain": [
              "tensor([[0.1255, 0.4092, 0.6088],\n",
              "        [0.6935, 0.6083, 0.4822],\n",
              "        [0.4151, 0.8732, 0.3371]])"
            ]
          },
          "metadata": {},
          "execution_count": 1
        }
      ]
    },
    {
      "cell_type": "markdown",
      "source": [
        "To reduce randomness in PyTorch, use the concept of `random seed`.    \n",
        "It essentially flavours the randomness."
      ],
      "metadata": {
        "id": "PH1H0W-sSw8e"
      },
      "id": "PH1H0W-sSw8e"
    },
    {
      "cell_type": "code",
      "source": [
        "# create two random tensors\n",
        "\n",
        "random_tensor_A = torch.rand(3,4)\n",
        "random_tensor_B = torch.rand(3,4)\n",
        "\n",
        "print(random_tensor_A == random_tensor_B)"
      ],
      "metadata": {
        "colab": {
          "base_uri": "https://localhost:8080/"
        },
        "id": "DGq8_RnCS6iL",
        "outputId": "481cb685-f7b1-49ce-a392-5aa6922676db"
      },
      "id": "DGq8_RnCS6iL",
      "execution_count": null,
      "outputs": [
        {
          "output_type": "stream",
          "name": "stdout",
          "text": [
            "tensor([[False, False, False, False],\n",
            "        [False, False, False, False],\n",
            "        [False, False, False, False]])\n"
          ]
        }
      ]
    },
    {
      "cell_type": "code",
      "source": [
        "# Creating random but reproducible tensors\n",
        "\n",
        "RANDOM_SEED = 5\n",
        "\n",
        "torch.manual_seed(RANDOM_SEED)\n",
        "random_tensor_C = torch.rand(3,4)\n",
        "\n",
        "torch.manual_seed(RANDOM_SEED)\n",
        "random_tensor_D = torch.rand(3,4)\n",
        "\n",
        "random_tensor_C == random_tensor_D"
      ],
      "metadata": {
        "colab": {
          "base_uri": "https://localhost:8080/"
        },
        "id": "VHPQ3VKZTnjO",
        "outputId": "982bb3a2-f0fe-4fc6-d3a8-1b3f450a659e"
      },
      "id": "VHPQ3VKZTnjO",
      "execution_count": null,
      "outputs": [
        {
          "output_type": "execute_result",
          "data": {
            "text/plain": [
              "tensor([[True, True, True, True],\n",
              "        [True, True, True, True],\n",
              "        [True, True, True, True]])"
            ]
          },
          "metadata": {},
          "execution_count": 3
        }
      ]
    },
    {
      "cell_type": "markdown",
      "source": [
        "## Running tensors on GPU\n",
        "\n",
        "### Getting a GPU -\n",
        "\n",
        "\n",
        "1.   Use Colab/Kaggle\n",
        "2.   Get a discrete graphics card for yourself\n",
        "3.   Cloud computing pe rent pe lo"
      ],
      "metadata": {
        "id": "SH7Q9abXUre5"
      },
      "id": "SH7Q9abXUre5"
    },
    {
      "cell_type": "code",
      "source": [
        "!nvidia-smi"
      ],
      "metadata": {
        "colab": {
          "base_uri": "https://localhost:8080/"
        },
        "id": "eYeIMCrsT_-w",
        "outputId": "e3d0c6b8-a4cd-49f4-aae6-c26056e5c8e4"
      },
      "id": "eYeIMCrsT_-w",
      "execution_count": null,
      "outputs": [
        {
          "output_type": "stream",
          "name": "stdout",
          "text": [
            "Wed Aug 20 12:02:56 2025       \n",
            "+-----------------------------------------------------------------------------------------+\n",
            "| NVIDIA-SMI 550.54.15              Driver Version: 550.54.15      CUDA Version: 12.4     |\n",
            "|-----------------------------------------+------------------------+----------------------+\n",
            "| GPU  Name                 Persistence-M | Bus-Id          Disp.A | Volatile Uncorr. ECC |\n",
            "| Fan  Temp   Perf          Pwr:Usage/Cap |           Memory-Usage | GPU-Util  Compute M. |\n",
            "|                                         |                        |               MIG M. |\n",
            "|=========================================+========================+======================|\n",
            "|   0  Tesla T4                       Off |   00000000:00:04.0 Off |                    0 |\n",
            "| N/A   49C    P8             10W /   70W |       0MiB /  15360MiB |      0%      Default |\n",
            "|                                         |                        |                  N/A |\n",
            "+-----------------------------------------+------------------------+----------------------+\n",
            "                                                                                         \n",
            "+-----------------------------------------------------------------------------------------+\n",
            "| Processes:                                                                              |\n",
            "|  GPU   GI   CI        PID   Type   Process name                              GPU Memory |\n",
            "|        ID   ID                                                               Usage      |\n",
            "|=========================================================================================|\n",
            "|  No running processes found                                                             |\n",
            "+-----------------------------------------------------------------------------------------+\n"
          ]
        }
      ]
    }
  ],
  "metadata": {
    "kernelspec": {
      "display_name": "Python 3",
      "name": "python3"
    },
    "language_info": {
      "codemirror_mode": {
        "name": "ipython",
        "version": 2
      },
      "file_extension": ".py",
      "mimetype": "text/x-python",
      "name": "python",
      "nbconvert_exporter": "python",
      "pygments_lexer": "ipython2",
      "version": "2.7.6"
    },
    "colab": {
      "provenance": [],
      "include_colab_link": true
    }
  },
  "nbformat": 4,
  "nbformat_minor": 5
}