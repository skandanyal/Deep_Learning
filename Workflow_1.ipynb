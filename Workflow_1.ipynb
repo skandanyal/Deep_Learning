{
  "nbformat": 4,
  "nbformat_minor": 0,
  "metadata": {
    "colab": {
      "provenance": [],
      "authorship_tag": "ABX9TyNzMa0MCEbUnpCAwLwxWlFY",
      "include_colab_link": true
    },
    "kernelspec": {
      "name": "python3",
      "display_name": "Python 3"
    },
    "language_info": {
      "name": "python"
    }
  },
  "cells": [
    {
      "cell_type": "markdown",
      "metadata": {
        "id": "view-in-github",
        "colab_type": "text"
      },
      "source": [
        "<a href=\"https://colab.research.google.com/github/skandanyal/Deep_Learning/blob/main/Workflow_1.ipynb\" target=\"_parent\"><img src=\"https://colab.research.google.com/assets/colab-badge.svg\" alt=\"Open In Colab\"/></a>"
      ]
    },
    {
      "cell_type": "markdown",
      "source": [
        "# PyTorch workflow\n",
        "\n",
        "Exploring an end-to-end workflow."
      ],
      "metadata": {
        "id": "Qhy1Pf-NX24a"
      }
    },
    {
      "cell_type": "code",
      "execution_count": null,
      "metadata": {
        "colab": {
          "base_uri": "https://localhost:8080/"
        },
        "id": "Nx6XYmxuXz2v",
        "outputId": "beaa395f-2e1d-43e6-e3e7-8903cd51a338"
      },
      "outputs": [
        {
          "output_type": "execute_result",
          "data": {
            "text/plain": [
              "{1: 'data (prepare and load)',\n",
              " 2: 'build model',\n",
              " 3: 'fitting the model to data (training)',\n",
              " 4: 'making predictions and evaluating a model (inference)',\n",
              " 5: 'saving and loading a model',\n",
              " 6: 'putting it all together (training pipeline)'}"
            ]
          },
          "metadata": {},
          "execution_count": 14
        }
      ],
      "source": [
        "what_we_are_covering = {\n",
        "    1: \"data (prepare and load)\",\n",
        "    2: \"build model\",\n",
        "    3: \"fitting the model to data (training)\",\n",
        "    4: \"making predictions and evaluating a model (inference)\",\n",
        "    5: \"saving and loading a model\",\n",
        "    6: \"putting it all together (training pipeline)\",\n",
        "}\n",
        "\n",
        "what_we_are_covering"
      ]
    },
    {
      "cell_type": "code",
      "source": [
        "import torch\n",
        "from torch import nn\n",
        "import matplotlib.pyplot as plt\n",
        "\n",
        "print(f\"PyTorch version: {torch.__version__}\")"
      ],
      "metadata": {
        "colab": {
          "base_uri": "https://localhost:8080/"
        },
        "id": "j7oZDsDJYplr",
        "outputId": "5ede1274-d267-4f13-b372-097eb4b9a78e"
      },
      "execution_count": null,
      "outputs": [
        {
          "output_type": "stream",
          "name": "stdout",
          "text": [
            "PyTorch version: 2.8.0+cu126\n"
          ]
        }
      ]
    },
    {
      "cell_type": "markdown",
      "source": [
        "## Data (preparing and loading)\n",
        "\n",
        "**Data can be almost anything**\n",
        "\n",
        "* Excel spreadsheets\n",
        "* Images of any kind\n",
        "* Videos\n",
        "* Audio\n",
        "* DNA\n",
        "* Text       \n",
        "\n",
        "**Machine learning is a game of two parts:**\n",
        "1.    Get data into numerical representation.\n",
        "2.    Build a model to learn patterns in that numerical representation."
      ],
      "metadata": {
        "id": "pH9hCdvqZIR7"
      }
    },
    {
      "cell_type": "markdown",
      "source": [
        "**Building a linear regression model for demonstration:**    \n",
        "Use a linear regression formula to make a straight line with known **parameters.**"
      ],
      "metadata": {
        "id": "Op88KRkoZ54l"
      }
    },
    {
      "cell_type": "code",
      "source": [
        "# Create *knwon* parameters\n",
        "weight = 0.7\n",
        "bias = 0.3\n",
        "\n",
        "# Create\n",
        "start = 0\n",
        "end = 1\n",
        "step = 0.02\n",
        "X = torch.arange(start, end, step).unsqueeze(dim=1)\n",
        "y = weight * X + bias\n",
        "\n",
        "# Looking at a few numbers\n",
        "print(X[:10])\n",
        "print( y[:10])\n",
        "print(len(X), len(y))"
      ],
      "metadata": {
        "colab": {
          "base_uri": "https://localhost:8080/"
        },
        "id": "_ctzgLx7ZF7g",
        "outputId": "b1366e5e-4314-46f0-c859-4730bd7c7f19"
      },
      "execution_count": null,
      "outputs": [
        {
          "output_type": "stream",
          "name": "stdout",
          "text": [
            "tensor([[0.0000],\n",
            "        [0.0200],\n",
            "        [0.0400],\n",
            "        [0.0600],\n",
            "        [0.0800],\n",
            "        [0.1000],\n",
            "        [0.1200],\n",
            "        [0.1400],\n",
            "        [0.1600],\n",
            "        [0.1800]])\n",
            "tensor([[0.3000],\n",
            "        [0.3140],\n",
            "        [0.3280],\n",
            "        [0.3420],\n",
            "        [0.3560],\n",
            "        [0.3700],\n",
            "        [0.3840],\n",
            "        [0.3980],\n",
            "        [0.4120],\n",
            "        [0.4260]])\n",
            "50 50\n"
          ]
        }
      ]
    },
    {
      "cell_type": "markdown",
      "source": [
        "**Splitting data into training and test datasets**"
      ],
      "metadata": {
        "id": "KYZEuysdbWn3"
      }
    },
    {
      "cell_type": "code",
      "source": [
        "# Create train-test-split\n",
        "\n",
        "train_split = int(0.75 * len(X))\n",
        "X_train, y_train = X[:train_split], y[:train_split]\n",
        "X_test, y_test = X[train_split:], y[train_split:]\n",
        "\n",
        "print(f\"Training data: {len(X_train)} samples\")\n",
        "print(f\"Test data: {len(X_test)} samples\")"
      ],
      "metadata": {
        "colab": {
          "base_uri": "https://localhost:8080/"
        },
        "id": "fPWdTmErbbke",
        "outputId": "dc3fa681-d354-4fa6-f3e5-228990532a42"
      },
      "execution_count": null,
      "outputs": [
        {
          "output_type": "stream",
          "name": "stdout",
          "text": [
            "Training data: 37 samples\n",
            "Test data: 13 samples\n"
          ]
        }
      ]
    },
    {
      "cell_type": "markdown",
      "source": [
        "**How can we better visualize our data:**\n",
        "\n",
        "Visualize! Visualize! Visualize!"
      ],
      "metadata": {
        "id": "g5ku7J_rcy4S"
      }
    },
    {
      "cell_type": "code",
      "source": [
        "def plot_predictions(train_data=X_train,\n",
        "                     train_labels = y_train,\n",
        "                     test_data = X_test,\n",
        "                     test_labels = y_test,\n",
        "                     predictions = None):\n",
        "\n",
        "    \"\"\"\n",
        "    Plots training data, test data and compares predictions.\n",
        "    \"\"\"\n",
        "    plt.figure(figsize=(10, 7))\n",
        "\n",
        "    # Plot training data in blue\n",
        "    plt.scatter(train_data, train_labels, c='b', s=4, label=\"Training data\")\n",
        "\n",
        "    # Plot test data in green\n",
        "    plt.scatter(test_data, test_labels, c='g', s=4, label=\"Testing data\")\n",
        "\n",
        "    if predictions is not None:\n",
        "        # Plot the predictions in red (predictions were made on the test data)\n",
        "        # we shall compare predictions against y_test\n",
        "        plt.scatter(test_data, predictions, c='r', s=4, label=\"Predictions\")\n",
        "\n",
        "    # legend\n",
        "    plt.legend(prop={\"size\": 14})"
      ],
      "metadata": {
        "id": "URcVQpgNcrtH"
      },
      "execution_count": null,
      "outputs": []
    },
    {
      "cell_type": "code",
      "source": [
        "plot_predictions()"
      ],
      "metadata": {
        "colab": {
          "base_uri": "https://localhost:8080/",
          "height": 599
        },
        "id": "Ud7l4IxbeoOn",
        "outputId": "8088411e-36f7-4a87-9830-cd789253d694"
      },
      "execution_count": null,
      "outputs": [
        {
          "output_type": "display_data",
          "data": {
            "text/plain": [
              "<Figure size 1000x700 with 1 Axes>"
            ],
            "image/png": "[encoded data removed]"
          },
          "metadata": {}
        }
      ]
    },
    {
      "cell_type": "markdown",
      "source": [
        "## Build model\n",
        "\n",
        "**What our model does:**\n",
        "* Start with random values (weights & bias)\n",
        "* Look at training data and adjust the random values to better represent (or get closer to) the ideal values (the weight & bias values we used to create the data)\n",
        "\n",
        "**How does it do so?**\n",
        "1.    Gradient descent\n",
        "2.    Backpropagation"
      ],
      "metadata": {
        "id": "SkwvbX-_fXmc"
      }
    },
    {
      "cell_type": "code",
      "source": [
        "# Create a linear regression python class\n",
        "\n",
        "import torch\n",
        "from torch import nn\n",
        "\n",
        "class LinearRegressionModel(nn.Module):\n",
        "    def __init__(self):\n",
        "        super().__init__()\n",
        "\n",
        "        # initialize model\n",
        "        self.weights = nn.Parameter(torch.randn(1,  # start with a random number and work through it\n",
        "                                                requires_grad=True,\n",
        "                                                dtype=torch.float))\n",
        "\n",
        "        self.bias = nn.Parameter(torch.randn(1,     # start with a random number and work through it\n",
        "                                             requires_grad=True,\n",
        "                                             dtype=torch.float))\n",
        "\n",
        "    # forward() method to define the computation in the model\n",
        "    def forward(self, x:torch.Tensor) -> torch.Tensor:\n",
        "        return self.weights * x + self.bias"
      ],
      "metadata": {
        "id": "-lSgs266e9aV"
      },
      "execution_count": null,
      "outputs": []
    },
    {
      "cell_type": "markdown",
      "source": [
        "### PyTorch model building essentials\n",
        "\n",
        "* `torch.nn` - contains all the blocks for NNs (computational graphs).\n",
        "* `torch.nn.Parameter` - what params should out model try and learn from torch.nn,\n",
        "* `torch.nn.Module` - base class for all nn modules. If you subclass it, you should override `forward()`.\n",
        "* `torch.optim` - here is where the optimizers in pyTorch live, will help us with gradient descent.\n",
        "* def `forward()` - all nn.Module() subclasses require you to overwrite forward()"
      ],
      "metadata": {
        "id": "6xDJrne8hqNs"
      }
    },
    {
      "cell_type": "markdown",
      "source": [
        "### Checking the contents of our PyTorch model:\n",
        "\n",
        "We can checking the model params using `.parameters()`."
      ],
      "metadata": {
        "id": "dAVUq_CSjgxo"
      }
    },
    {
      "cell_type": "code",
      "source": [
        "torch.manual_seed(5)                                            # create a random seed\n",
        "\n",
        "model_0 = LinearRegressionModel()                               # creating an instance of our model\n",
        "print(list(model_0.parameters()))                               # checking the parameters\n",
        "print(list(model_0.state_dict()))                               # list all named params"
      ],
      "metadata": {
        "colab": {
          "base_uri": "https://localhost:8080/"
        },
        "id": "b70dTOBDjfiU",
        "outputId": "c4aa7c41-33f0-4efc-fa52-ca63ff9bf136"
      },
      "execution_count": null,
      "outputs": [
        {
          "output_type": "stream",
          "name": "stdout",
          "text": [
            "[Parameter containing:\n",
            "tensor([-0.4868], requires_grad=True), Parameter containing:\n",
            "tensor([-0.6038], requires_grad=True)]\n",
            "['weights', 'bias']\n"
          ]
        }
      ]
    },
    {
      "cell_type": "markdown",
      "source": [
        "### Making prediction using `torch.inference_mode()`\n",
        "\n",
        "To check our model's predictive power, let us see how well it predicts `y_test` based upon `x_test`.\n",
        "\n",
        "When we pass the data through our model, it's going to run it through the `forward()`method."
      ],
      "metadata": {
        "id": "5tNS18h8l3Xr"
      }
    },
    {
      "cell_type": "code",
      "source": [
        "# Make predictions with model\n",
        "\n",
        "with torch.inference_mode():\n",
        "    y_preds = model_0(X_test)\n",
        "\n",
        "print(y_preds)"
      ],
      "metadata": {
        "colab": {
          "base_uri": "https://localhost:8080/"
        },
        "id": "NQO_7ytWl2fp",
        "outputId": "f6c8d69a-120e-448c-e956-9f0ea8149dd0"
      },
      "execution_count": null,
      "outputs": [
        {
          "output_type": "stream",
          "name": "stdout",
          "text": [
            "tensor([[-0.9640],\n",
            "        [-0.9738],\n",
            "        [-0.9835],\n",
            "        [-0.9932],\n",
            "        [-1.0030],\n",
            "        [-1.0127],\n",
            "        [-1.0225],\n",
            "        [-1.0322],\n",
            "        [-1.0419],\n",
            "        [-1.0517],\n",
            "        [-1.0614],\n",
            "        [-1.0711],\n",
            "        [-1.0809]])\n"
          ]
        }
      ]
    },
    {
      "cell_type": "code",
      "source": [
        "plot_predictions(predictions=y_preds)                                   # damn....."
      ],
      "metadata": {
        "colab": {
          "base_uri": "https://localhost:8080/",
          "height": 599
        },
        "id": "biL5LYJOnB_b",
        "outputId": "85f44d22-b4c0-414b-e119-268e1e2ee40f"
      },
      "execution_count": null,
      "outputs": [
        {
          "output_type": "display_data",
          "data": {
            "text/plain": [
              "<Figure size 1000x700 with 1 Axes>"
            ],
            "image/png": "[encoded data removed]"
          },
          "metadata": {}
        }
      ]
    },
    {
      "cell_type": "markdown",
      "source": [
        "`torch.inference_mode()` and `torch.no_grad()` do a few things pretty similarly, and disctinctively. To know more, visit - https://x.com/PyTorch/status/1437838231505096708?lang=en"
      ],
      "metadata": {
        "id": "7T5l1DCin-3E"
      }
    },
    {
      "cell_type": "markdown",
      "source": [
        "### Training a model\n",
        "\n",
        "Taking the model from having a poor representation of data to a better representation of data.    \n",
        "\n",
        "One way to know how poor a model is performing, is by analyzing its loss function (also called as cost function or criterion.)     \n",
        "\n",
        "**Things we need to train a model:**\n",
        "1.    **Loss function:** A function which basically says how wrong the model is.\n",
        "2.    **Optimizer():** Takes into account the loss of a model and adjusts the model's parameters (weights and biases).    \n",
        "\n",
        "Specifically for PyTorch, we need:\n",
        "*    Training loop\n",
        "*    Testing loop"
      ],
      "metadata": {
        "id": "dAOy_TNypfOp"
      }
    },
    {
      "cell_type": "code",
      "source": [],
      "metadata": {
        "id": "yvgwEsI1pRkB"
      },
      "execution_count": null,
      "outputs": []
    },
    {
      "cell_type": "code",
      "source": [],
      "metadata": {
        "id": "o5iHgaztn-jr"
      },
      "execution_count": null,
      "outputs": []
    }
  ]
}