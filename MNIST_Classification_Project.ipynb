{
  "nbformat": 4,
  "nbformat_minor": 0,
  "metadata": {
    "colab": {
      "provenance": [],
      "gpuType": "T4",
      "authorship_tag": "ABX9TyMHQZ9Y7wUBYtEPnyxuq4oL",
      "include_colab_link": true
    },
    "kernelspec": {
      "name": "python3",
      "display_name": "Python 3"
    },
    "language_info": {
      "name": "python"
    },
    "accelerator": "GPU"
  },
  "cells": [
    {
      "cell_type": "markdown",
      "metadata": {
        "id": "view-in-github",
        "colab_type": "text"
      },
      "source": [
        "<a href=\"https://colab.research.google.com/github/skandanyal/Deep_Learning/blob/main/MNIST_Classification_Project.ipynb\" target=\"_parent\"><img src=\"https://colab.research.google.com/assets/colab-badge.svg\" alt=\"Open In Colab\"/></a>"
      ]
    },
    {
      "cell_type": "markdown",
      "source": [
        "# MNIST Handwritten Digit Recognition\n",
        "\n",
        "In this project, we learn how to classify hadwritten digit images using Feedforward Neural Networks."
      ],
      "metadata": {
        "id": "WfMGS4MyoiyJ"
      }
    },
    {
      "cell_type": "markdown",
      "source": [
        "## Importing the dataset and required libraries"
      ],
      "metadata": {
        "id": "tZXsFi1IrQ8W"
      }
    },
    {
      "cell_type": "code",
      "execution_count": 13,
      "metadata": {
        "colab": {
          "base_uri": "https://localhost:8080/"
        },
        "id": "wUkmMS5I5oYp",
        "outputId": "851a5fc5-0c2b-4a7f-f5ac-082fb6893a4b"
      },
      "outputs": [
        {
          "output_type": "stream",
          "name": "stdout",
          "text": [
            "Using Colab cache for faster access to the 'mnist-in-csv' dataset.\n",
            "Path to dataset files: /kaggle/input/mnist-in-csv\n"
          ]
        }
      ],
      "source": [
        "import kagglehub\n",
        "\n",
        "# Download latest version\n",
        "path = kagglehub.dataset_download(\"oddrationale/mnist-in-csv\")\n",
        "\n",
        "print(\"Path to dataset files:\", path)"
      ]
    },
    {
      "cell_type": "code",
      "source": [
        "import numpy as np\n",
        "import pandas as pd\n",
        "import matplotlib.pyplot as plt\n",
        "%matplotlib inline"
      ],
      "metadata": {
        "id": "UYD4gyH8ACYk"
      },
      "execution_count": 14,
      "outputs": []
    },
    {
      "cell_type": "markdown",
      "source": [
        "Importing the train and test dataset sdownloaded from Kaggle"
      ],
      "metadata": {
        "id": "KE2k6_Q5APYk"
      }
    },
    {
      "cell_type": "code",
      "source": [
        "# reading the data files in csv format\n",
        "\n",
        "test_data = pd.read_csv(\"/kaggle/input/mnist-in-csv/mnist_test.csv\")\n",
        "train_data = pd.read_csv(\"/kaggle/input/mnist-in-csv/mnist_train.csv\")\n",
        "\n",
        "print(\"Test data:\\n\\n\",test_data[:5])\n",
        "print(\"\\n###############\\n\")\n",
        "print(\"Train data:\\n\\n\", train_data[:5])"
      ],
      "metadata": {
        "colab": {
          "base_uri": "https://localhost:8080/"
        },
        "id": "T0cVGX6yAX9h",
        "outputId": "2780f6d5-f999-4e06-9187-4a58d19284e6"
      },
      "execution_count": 15,
      "outputs": [
        {
          "output_type": "stream",
          "name": "stdout",
          "text": [
            "Test data:\n",
            "\n",
            "    label  1x1  1x2  1x3  1x4  1x5  1x6  1x7  1x8  1x9  ...  28x19  28x20  \\\n",
            "0      7    0    0    0    0    0    0    0    0    0  ...      0      0   \n",
            "1      2    0    0    0    0    0    0    0    0    0  ...      0      0   \n",
            "2      1    0    0    0    0    0    0    0    0    0  ...      0      0   \n",
            "3      0    0    0    0    0    0    0    0    0    0  ...      0      0   \n",
            "4      4    0    0    0    0    0    0    0    0    0  ...      0      0   \n",
            "\n",
            "   28x21  28x22  28x23  28x24  28x25  28x26  28x27  28x28  \n",
            "0      0      0      0      0      0      0      0      0  \n",
            "1      0      0      0      0      0      0      0      0  \n",
            "2      0      0      0      0      0      0      0      0  \n",
            "3      0      0      0      0      0      0      0      0  \n",
            "4      0      0      0      0      0      0      0      0  \n",
            "\n",
            "[5 rows x 785 columns]\n",
            "\n",
            "###############\n",
            "\n",
            "Train data:\n",
            "\n",
            "    label  1x1  1x2  1x3  1x4  1x5  1x6  1x7  1x8  1x9  ...  28x19  28x20  \\\n",
            "0      5    0    0    0    0    0    0    0    0    0  ...      0      0   \n",
            "1      0    0    0    0    0    0    0    0    0    0  ...      0      0   \n",
            "2      4    0    0    0    0    0    0    0    0    0  ...      0      0   \n",
            "3      1    0    0    0    0    0    0    0    0    0  ...      0      0   \n",
            "4      9    0    0    0    0    0    0    0    0    0  ...      0      0   \n",
            "\n",
            "   28x21  28x22  28x23  28x24  28x25  28x26  28x27  28x28  \n",
            "0      0      0      0      0      0      0      0      0  \n",
            "1      0      0      0      0      0      0      0      0  \n",
            "2      0      0      0      0      0      0      0      0  \n",
            "3      0      0      0      0      0      0      0      0  \n",
            "4      0      0      0      0      0      0      0      0  \n",
            "\n",
            "[5 rows x 785 columns]\n"
          ]
        }
      ]
    },
    {
      "cell_type": "markdown",
      "source": [
        "We observe that the first column contains the label, followed by 784 columns of numerically represented image data."
      ],
      "metadata": {
        "id": "I7gWFWrABZTi"
      }
    },
    {
      "cell_type": "code",
      "source": [
        "# Reshaping data\n",
        "\n",
        "print(\"Reshaping data...\")\n",
        "\n",
        "train_data_final = train_data.drop(\n",
        "    columns=['label'],\n",
        "    axis=1\n",
        ")\n",
        "test_data_final = test_data.drop(\n",
        "    columns=['label'],\n",
        "    axis=1\n",
        ")\n",
        "train_labels = train_data['label']\n",
        "test_labels = test_data['label']\n",
        "\n",
        "# Normalizing the dataset\n",
        "\n",
        "train_data_final /= 255.0\n",
        "test_data_final /= 255.0\n",
        "\n",
        "print(\"Data is ready!\")"
      ],
      "metadata": {
        "colab": {
          "base_uri": "https://localhost:8080/"
        },
        "id": "7YpENPfLAJGP",
        "outputId": "c2b927e1-bd23-4771-bf2e-ff44bc9d83fc"
      },
      "execution_count": 16,
      "outputs": [
        {
          "output_type": "stream",
          "name": "stdout",
          "text": [
            "Reshaping data...\n",
            "Data is ready!\n"
          ]
        }
      ]
    },
    {
      "cell_type": "markdown",
      "source": [
        "## PyTorch\n",
        "\n",
        "WE shall use PyTorch to implement Deep Learning methods for this project"
      ],
      "metadata": {
        "id": "0hVuhWDLrZfO"
      }
    },
    {
      "cell_type": "code",
      "source": [
        "# converting into PyTorch tensors\n",
        "\n",
        "import torch\n",
        "import torch.nn as nn\n",
        "import torch.optim as optim\n",
        "from torch.utils.data import DataLoader, TensorDataset\n",
        "\n",
        "# training dataset\n",
        "\n",
        "X_train = torch.tensor(\n",
        "    data=train_data_final.values,\n",
        "    dtype=torch.float32\n",
        ")\n",
        "y_train = torch.tensor(\n",
        "    data=train_labels.values,\n",
        "    dtype=torch.long\n",
        ")\n",
        "\n",
        "# testing dataset\n",
        "\n",
        "X_test = torch.tensor(\n",
        "    data=test_data_final.values,\n",
        "    dtype=torch.float32,\n",
        ")\n",
        "y_test = torch.tensor(\n",
        "    data=test_labels.values,\n",
        "    dtype=torch.long\n",
        ")"
      ],
      "metadata": {
        "id": "sRApFKIioivj"
      },
      "execution_count": 17,
      "outputs": []
    },
    {
      "cell_type": "markdown",
      "source": [
        "We shall train the model in smaller batches to accomodate for the large dataset. (Implementing a good-practice method)."
      ],
      "metadata": {
        "id": "dRvXK0BFris7"
      }
    },
    {
      "cell_type": "code",
      "source": [
        "# using DataLoader\n",
        "\n",
        "batch_size = 64\n",
        "\n",
        "train_dataset = TensorDataset(\n",
        "    X_train,\n",
        "    y_train\n",
        ")\n",
        "test_dataset = TensorDataset(\n",
        "    X_test,\n",
        "    y_test\n",
        ")\n",
        "\n",
        "train_loader = DataLoader(\n",
        "    dataset=train_dataset,\n",
        "    batch_size=batch_size,\n",
        "    shuffle=True\n",
        ")\n",
        "test_loader = DataLoader(\n",
        "    dataset=test_dataset,\n",
        "    batch_size=batch_size,\n",
        "    shuffle=True\n",
        ")"
      ],
      "metadata": {
        "id": "KnACOYyXFp13"
      },
      "execution_count": 18,
      "outputs": []
    },
    {
      "cell_type": "markdown",
      "source": [
        "## Preparing the model"
      ],
      "metadata": {
        "id": "SjLBtbXPHwZE"
      }
    },
    {
      "cell_type": "markdown",
      "source": [
        "We shall build a 4 layer neural netork to perform this classification."
      ],
      "metadata": {
        "id": "X61hytoSsmal"
      }
    },
    {
      "cell_type": "code",
      "source": [
        "class MNIST_Model(nn.Module):\n",
        "    def __init__(self):\n",
        "        super(MNIST_Model, self).__init__()\n",
        "        self.network = nn.Sequential(\n",
        "            nn.Linear(28*28, 256),\n",
        "            nn.ReLU(),\n",
        "            nn.Linear(256, 128),\n",
        "            nn.ReLU(),\n",
        "            nn.Linear(128, 64),\n",
        "            nn.ReLU(),\n",
        "            nn.Linear(64, 10),\n",
        "        )\n",
        "\n",
        "    def forward(self, x):\n",
        "        return self.network(x)"
      ],
      "metadata": {
        "id": "IrmSAJFqHykm"
      },
      "execution_count": 19,
      "outputs": []
    },
    {
      "cell_type": "code",
      "source": [
        "# set up the device\n",
        "\n",
        "device = 'cuda' if torch.cuda.is_available() else 'cpu'\n",
        "print(f\"Using device: {device}\")\n",
        "torch.device(device=device)"
      ],
      "metadata": {
        "colab": {
          "base_uri": "https://localhost:8080/"
        },
        "id": "OV7ePUQnIm7d",
        "outputId": "cbd845af-0855-465d-b431-571cb7cfef85"
      },
      "execution_count": 20,
      "outputs": [
        {
          "output_type": "stream",
          "name": "stdout",
          "text": [
            "Using device: cuda\n"
          ]
        },
        {
          "output_type": "execute_result",
          "data": {
            "text/plain": [
              "device(type='cuda')"
            ]
          },
          "metadata": {},
          "execution_count": 20
        }
      ]
    },
    {
      "cell_type": "code",
      "source": [
        "# Setting the optimizer - using Adam optimizer\n",
        "\n",
        "model = MNIST_Model().to(device)\n",
        "criterion = nn.CrossEntropyLoss()\n",
        "optimizer = optim.Adam(\n",
        "    params=model.parameters(),\n",
        "    lr=0.001\n",
        ")"
      ],
      "metadata": {
        "id": "hDDd6QyqLwdN"
      },
      "execution_count": 21,
      "outputs": []
    },
    {
      "cell_type": "markdown",
      "source": [
        "## Training loop"
      ],
      "metadata": {
        "id": "KTdEwxmYNS47"
      }
    },
    {
      "cell_type": "code",
      "source": [
        "torch.manual_seed(\n",
        "    seed=5\n",
        ")\n",
        "\n",
        "epochs = 50\n",
        "acted_epochs = 0\n",
        "train_losses = []\n",
        "\n",
        "print(\"##### Training has begun #####\")\n",
        "\n",
        "for epoch in range(epochs):\n",
        "    model.train()\n",
        "    running_loss = 0.0\n",
        "\n",
        "    for X_batch, y_batch in train_loader:\n",
        "        # moving the batch to the deice\n",
        "        X_batch, y_batch = X_batch.to(device), y_batch.to(device)\n",
        "\n",
        "        # forward pass\n",
        "        output = model(X_batch)\n",
        "        loss = criterion(output, y_batch)\n",
        "\n",
        "        # Backward + optimize\n",
        "        optimizer.zero_grad()\n",
        "        loss.backward()\n",
        "        optimizer.step()\n",
        "\n",
        "        running_loss += loss.item() * X_batch.size(0)\n",
        "\n",
        "    epoch_loss = running_loss / len(train_loader.dataset)\n",
        "    train_losses.append(epoch_loss)\n",
        "    acted_epochs += 1\n",
        "\n",
        "    # Logging the loss at every 4th epoch\n",
        "    if (epoch+1) % 4 == 0:\n",
        "        print(f\"Epoch [{epoch+1}/{epochs}] | Loss: {epoch_loss:.4f}\")\n",
        "\n",
        "    # Enabling early stopping\n",
        "    if len(train_losses) > 2 and train_losses[-1] < 0.05:\n",
        "        print(f\"Early stopping engaged at epoch: {epoch+1}\")\n",
        "        break"
      ],
      "metadata": {
        "colab": {
          "base_uri": "https://localhost:8080/"
        },
        "id": "Oq_lVG1gNO8V",
        "outputId": "1381d292-7983-4290-add3-c757e69f0dc3"
      },
      "execution_count": 22,
      "outputs": [
        {
          "output_type": "stream",
          "name": "stdout",
          "text": [
            "##### Training has begun #####\n",
            "Epoch [4/50] | Loss: 0.0562\n",
            "Early stopping engaged at epoch: 5\n"
          ]
        }
      ]
    },
    {
      "cell_type": "code",
      "source": [
        "plt.plot(range(1, acted_epochs+1),train_losses, marker='o')\n",
        "plt.title(\"Training Loss Curve\")\n",
        "plt.xlabel(\"Epoch\")\n",
        "plt.ylabel(\"Loss\")\n",
        "plt.grid()\n",
        "plt.legend()\n",
        "plt.show()\n"
      ],
      "metadata": {
        "colab": {
          "base_uri": "https://localhost:8080/",
          "height": 507
        },
        "id": "onemncU-R_Lw",
        "outputId": "de6af85b-a233-4b1c-cbab-07179323eab3"
      },
      "execution_count": 23,
      "outputs": [
        {
          "output_type": "stream",
          "name": "stderr",
          "text": [
            "/tmp/ipython-input-1233957675.py:6: UserWarning: No artists with labels found to put in legend.  Note that artists whose label start with an underscore are ignored when legend() is called with no argument.\n",
            "  plt.legend()\n"
          ]
        },
        {
          "output_type": "display_data",
          "data": {
            "text/plain": [
              "<Figure size 640x480 with 1 Axes>"
            ],
            "image/png": "[encoded data removed]"
          },
          "metadata": {}
        }
      ]
    },
    {
      "cell_type": "markdown",
      "source": [
        "## Evaluationg the model"
      ],
      "metadata": {
        "id": "cIHNCewps_cx"
      }
    },
    {
      "cell_type": "code",
      "source": [
        "model.eval()\n",
        "correct, total = 0, 0\n",
        "\n",
        "with torch.no_grad():\n",
        "    for X_batch, y_batch in test_loader:\n",
        "        X_batch, y_batch = X_batch.to(device), y_batch.to(device)\n",
        "        outputs = model(X_batch)\n",
        "        _, predicted = torch.max(outputs, 1)\n",
        "        total += y_batch.size(0)\n",
        "        correct += (predicted == y_batch).sum().item()\n",
        "\n",
        "accuracy = correct / total\n",
        "print(f\"Test Accuracy: {accuracy*100:.2f}%\")\n"
      ],
      "metadata": {
        "colab": {
          "base_uri": "https://localhost:8080/"
        },
        "id": "G0DXrELVNQq9",
        "outputId": "8bab89b6-cdb3-40d4-9c5f-84513e026d51"
      },
      "execution_count": 24,
      "outputs": [
        {
          "output_type": "stream",
          "name": "stdout",
          "text": [
            "Test Accuracy: 97.48%\n"
          ]
        }
      ]
    }
  ]
}